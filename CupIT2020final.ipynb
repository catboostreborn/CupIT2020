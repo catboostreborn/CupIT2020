{
  "nbformat": 4,
  "nbformat_minor": 0,
  "metadata": {
    "colab": {
      "name": "CupIT2020final.ipynb",
      "provenance": [],
      "mount_file_id": "1v2Kbq6IXQTwQ9JP6ZyCqdZxbEJV9jQQn",
      "authorship_tag": "ABX9TyMMyf9kVG5uaavSDaP8rYRE",
      "include_colab_link": true
    },
    "kernelspec": {
      "name": "python3",
      "display_name": "Python 3"
    }
  },
  "cells": [
    {
      "cell_type": "markdown",
      "metadata": {
        "id": "view-in-github",
        "colab_type": "text"
      },
      "source": [
        "<a href=\"https://colab.research.google.com/github/zqiaohe/CupIT2020/blob/master/CupIT2020final.ipynb\" target=\"_parent\"><img src=\"https://colab.research.google.com/assets/colab-badge.svg\" alt=\"Open In Colab\"/></a>"
      ]
    },
    {
      "cell_type": "code",
      "metadata": {
        "id": "FGWM29GDJss_",
        "colab_type": "code",
        "colab": {}
      },
      "source": [
        "import pandas as pd\n",
        "import numpy as np\n",
        "import matplotlib.pyplot as plt\n",
        "%matplotlib inline"
      ],
      "execution_count": 0,
      "outputs": []
    },
    {
      "cell_type": "code",
      "metadata": {
        "id": "Z2A8tB9bRs7s",
        "colab_type": "code",
        "colab": {}
      },
      "source": [
        ""
      ],
      "execution_count": 0,
      "outputs": []
    },
    {
      "cell_type": "code",
      "metadata": {
        "id": "TcJzzj_uJykT",
        "colab_type": "code",
        "colab": {}
      },
      "source": [
        "data = pd.read_csv('/content/drive/My Drive/CL_megafon_Cup IT_2020_final_data (1).csv', sep = ';')"
      ],
      "execution_count": 0,
      "outputs": []
    },
    {
      "cell_type": "code",
      "metadata": {
        "id": "O1-Fs7cPSYPR",
        "colab_type": "code",
        "outputId": "935a4edd-4542-454f-b4fe-aa3030308403",
        "colab": {
          "base_uri": "https://localhost:8080/",
          "height": 407
        }
      },
      "source": [
        "data"
      ],
      "execution_count": 0,
      "outputs": [
        {
          "output_type": "execute_result",
          "data": {
            "text/html": [
              "<div>\n",
              "<style scoped>\n",
              "    .dataframe tbody tr th:only-of-type {\n",
              "        vertical-align: middle;\n",
              "    }\n",
              "\n",
              "    .dataframe tbody tr th {\n",
              "        vertical-align: top;\n",
              "    }\n",
              "\n",
              "    .dataframe thead th {\n",
              "        text-align: right;\n",
              "    }\n",
              "</style>\n",
              "<table border=\"1\" class=\"dataframe\">\n",
              "  <thead>\n",
              "    <tr style=\"text-align: right;\">\n",
              "      <th></th>\n",
              "      <th>time_start</th>\n",
              "      <th>time_end</th>\n",
              "      <th>place_latitude</th>\n",
              "      <th>place_longitude</th>\n",
              "    </tr>\n",
              "  </thead>\n",
              "  <tbody>\n",
              "    <tr>\n",
              "      <th>0</th>\n",
              "      <td>2019-08-24 14:23:56</td>\n",
              "      <td>2019-08-24 18:54:47</td>\n",
              "      <td>28.102908</td>\n",
              "      <td>113.617867</td>\n",
              "    </tr>\n",
              "    <tr>\n",
              "      <th>1</th>\n",
              "      <td>2018-06-19 08:56:22</td>\n",
              "      <td>2018-06-19 12:15:26</td>\n",
              "      <td>28.102908</td>\n",
              "      <td>113.617867</td>\n",
              "    </tr>\n",
              "    <tr>\n",
              "      <th>2</th>\n",
              "      <td>2018-08-29 14:00:32</td>\n",
              "      <td>2018-08-29 14:37:51</td>\n",
              "      <td>28.102908</td>\n",
              "      <td>113.617867</td>\n",
              "    </tr>\n",
              "    <tr>\n",
              "      <th>3</th>\n",
              "      <td>2019-12-10 16:01:26</td>\n",
              "      <td>2019-12-10 16:35:22</td>\n",
              "      <td>28.102908</td>\n",
              "      <td>113.617867</td>\n",
              "    </tr>\n",
              "    <tr>\n",
              "      <th>4</th>\n",
              "      <td>2019-12-10 13:39:42</td>\n",
              "      <td>2019-12-10 17:58:22</td>\n",
              "      <td>28.999495</td>\n",
              "      <td>115.167583</td>\n",
              "    </tr>\n",
              "    <tr>\n",
              "      <th>...</th>\n",
              "      <td>...</td>\n",
              "      <td>...</td>\n",
              "      <td>...</td>\n",
              "      <td>...</td>\n",
              "    </tr>\n",
              "    <tr>\n",
              "      <th>78218</th>\n",
              "      <td>2018-06-25 11:25:04</td>\n",
              "      <td>2018-06-25 14:39:32</td>\n",
              "      <td>28.945221</td>\n",
              "      <td>114.357402</td>\n",
              "    </tr>\n",
              "    <tr>\n",
              "      <th>78219</th>\n",
              "      <td>2018-04-06 10:07:13</td>\n",
              "      <td>2018-04-06 16:34:40</td>\n",
              "      <td>28.619318</td>\n",
              "      <td>114.397573</td>\n",
              "    </tr>\n",
              "    <tr>\n",
              "      <th>78220</th>\n",
              "      <td>2018-07-13 22:59:34</td>\n",
              "      <td>2018-07-14 00:05:50</td>\n",
              "      <td>28.619318</td>\n",
              "      <td>114.397573</td>\n",
              "    </tr>\n",
              "    <tr>\n",
              "      <th>78221</th>\n",
              "      <td>2018-11-06 00:05:57</td>\n",
              "      <td>2018-11-06 08:50:10</td>\n",
              "      <td>28.619318</td>\n",
              "      <td>114.397573</td>\n",
              "    </tr>\n",
              "    <tr>\n",
              "      <th>78222</th>\n",
              "      <td>2018-10-15 02:24:15</td>\n",
              "      <td>2018-10-15 18:03:48</td>\n",
              "      <td>28.619318</td>\n",
              "      <td>114.397573</td>\n",
              "    </tr>\n",
              "  </tbody>\n",
              "</table>\n",
              "<p>78223 rows × 4 columns</p>\n",
              "</div>"
            ],
            "text/plain": [
              "                time_start  ... place_longitude\n",
              "0      2019-08-24 14:23:56  ...      113.617867\n",
              "1      2018-06-19 08:56:22  ...      113.617867\n",
              "2      2018-08-29 14:00:32  ...      113.617867\n",
              "3      2019-12-10 16:01:26  ...      113.617867\n",
              "4      2019-12-10 13:39:42  ...      115.167583\n",
              "...                    ...  ...             ...\n",
              "78218  2018-06-25 11:25:04  ...      114.357402\n",
              "78219  2018-04-06 10:07:13  ...      114.397573\n",
              "78220  2018-07-13 22:59:34  ...      114.397573\n",
              "78221  2018-11-06 00:05:57  ...      114.397573\n",
              "78222  2018-10-15 02:24:15  ...      114.397573\n",
              "\n",
              "[78223 rows x 4 columns]"
            ]
          },
          "metadata": {
            "tags": []
          },
          "execution_count": 3
        }
      ]
    },
    {
      "cell_type": "code",
      "metadata": {
        "id": "fRNeX7JDNZ5X",
        "colab_type": "code",
        "outputId": "a53181ca-2044-45cd-b760-88a43cb46794",
        "colab": {
          "base_uri": "https://localhost:8080/",
          "height": 437
        }
      },
      "source": [
        " data.groupby(['place_latitude','place_longitude']).count()"
      ],
      "execution_count": 0,
      "outputs": [
        {
          "output_type": "execute_result",
          "data": {
            "text/html": [
              "<div>\n",
              "<style scoped>\n",
              "    .dataframe tbody tr th:only-of-type {\n",
              "        vertical-align: middle;\n",
              "    }\n",
              "\n",
              "    .dataframe tbody tr th {\n",
              "        vertical-align: top;\n",
              "    }\n",
              "\n",
              "    .dataframe thead th {\n",
              "        text-align: right;\n",
              "    }\n",
              "</style>\n",
              "<table border=\"1\" class=\"dataframe\">\n",
              "  <thead>\n",
              "    <tr style=\"text-align: right;\">\n",
              "      <th></th>\n",
              "      <th></th>\n",
              "      <th>time_start</th>\n",
              "      <th>time_end</th>\n",
              "    </tr>\n",
              "    <tr>\n",
              "      <th>place_latitude</th>\n",
              "      <th>place_longitude</th>\n",
              "      <th></th>\n",
              "      <th></th>\n",
              "    </tr>\n",
              "  </thead>\n",
              "  <tbody>\n",
              "    <tr>\n",
              "      <th>27.002889</th>\n",
              "      <th>115.390675</th>\n",
              "      <td>12</td>\n",
              "      <td>12</td>\n",
              "    </tr>\n",
              "    <tr>\n",
              "      <th>27.004426</th>\n",
              "      <th>114.508818</th>\n",
              "      <td>9</td>\n",
              "      <td>9</td>\n",
              "    </tr>\n",
              "    <tr>\n",
              "      <th>27.004441</th>\n",
              "      <th>114.482340</th>\n",
              "      <td>17</td>\n",
              "      <td>17</td>\n",
              "    </tr>\n",
              "    <tr>\n",
              "      <th>27.004443</th>\n",
              "      <th>115.305837</th>\n",
              "      <td>8</td>\n",
              "      <td>8</td>\n",
              "    </tr>\n",
              "    <tr>\n",
              "      <th>27.005625</th>\n",
              "      <th>114.930465</th>\n",
              "      <td>16</td>\n",
              "      <td>16</td>\n",
              "    </tr>\n",
              "    <tr>\n",
              "      <th>...</th>\n",
              "      <th>...</th>\n",
              "      <td>...</td>\n",
              "      <td>...</td>\n",
              "    </tr>\n",
              "    <tr>\n",
              "      <th>31.956940</th>\n",
              "      <th>114.472610</th>\n",
              "      <td>14</td>\n",
              "      <td>14</td>\n",
              "    </tr>\n",
              "    <tr>\n",
              "      <th>31.960560</th>\n",
              "      <th>112.951390</th>\n",
              "      <td>7</td>\n",
              "      <td>7</td>\n",
              "    </tr>\n",
              "    <tr>\n",
              "      <th>31.964470</th>\n",
              "      <th>111.010000</th>\n",
              "      <td>36</td>\n",
              "      <td>36</td>\n",
              "    </tr>\n",
              "    <tr>\n",
              "      <th>31.965556</th>\n",
              "      <th>113.599722</th>\n",
              "      <td>15</td>\n",
              "      <td>15</td>\n",
              "    </tr>\n",
              "    <tr>\n",
              "      <th>31.977074</th>\n",
              "      <th>115.393131</th>\n",
              "      <td>3</td>\n",
              "      <td>3</td>\n",
              "    </tr>\n",
              "  </tbody>\n",
              "</table>\n",
              "<p>8312 rows × 2 columns</p>\n",
              "</div>"
            ],
            "text/plain": [
              "                                time_start  time_end\n",
              "place_latitude place_longitude                      \n",
              "27.002889      115.390675               12        12\n",
              "27.004426      114.508818                9         9\n",
              "27.004441      114.482340               17        17\n",
              "27.004443      115.305837                8         8\n",
              "27.005625      114.930465               16        16\n",
              "...                                    ...       ...\n",
              "31.956940      114.472610               14        14\n",
              "31.960560      112.951390                7         7\n",
              "31.964470      111.010000               36        36\n",
              "31.965556      113.599722               15        15\n",
              "31.977074      115.393131                3         3\n",
              "\n",
              "[8312 rows x 2 columns]"
            ]
          },
          "metadata": {
            "tags": []
          },
          "execution_count": 4
        }
      ]
    },
    {
      "cell_type": "markdown",
      "metadata": {
        "id": "EmpSdHlBRu-Z",
        "colab_type": "text"
      },
      "source": [
        "# Просто текст для проверки "
      ]
    },
    {
      "cell_type": "code",
      "metadata": {
        "id": "DDNBxPf9RtyT",
        "colab_type": "code",
        "colab": {}
      },
      "source": [
        ""
      ],
      "execution_count": 0,
      "outputs": []
    }
  ]
}