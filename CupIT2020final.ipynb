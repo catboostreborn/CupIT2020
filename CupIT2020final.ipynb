{
  "nbformat": 4,
  "nbformat_minor": 0,
  "metadata": {
    "colab": {
      "name": "CupIT2020final.ipynb",
      "provenance": [],
      "mount_file_id": "1v2Kbq6IXQTwQ9JP6ZyCqdZxbEJV9jQQn",
      "authorship_tag": "ABX9TyN+0X7Clesy8yA8ITHOcee9",
      "include_colab_link": true
    },
    "kernelspec": {
      "name": "python3",
      "display_name": "Python 3"
    }
  },
  "cells": [
    {
      "cell_type": "markdown",
      "metadata": {
        "id": "view-in-github",
        "colab_type": "text"
      },
      "source": [
        "<a href=\"https://colab.research.google.com/github/zqiaohe/CupIT2020/blob/master/CupIT2020final.ipynb\" target=\"_parent\"><img src=\"https://colab.research.google.com/assets/colab-badge.svg\" alt=\"Open In Colab\"/></a>"
      ]
    },
    {
      "cell_type": "code",
      "metadata": {
        "id": "FGWM29GDJss_",
        "colab_type": "code",
        "colab": {}
      },
      "source": [
        "import pandas as pd\n",
        "import numpy as np\n",
        "import matplotlib.pyplot as plt\n",
        "%matplotlib inline"
      ],
      "execution_count": 0,
      "outputs": []
    },
    {
      "cell_type": "code",
      "metadata": {
        "id": "pFEHXWe5KMqU",
        "colab_type": "code",
        "colab": {}
      },
      "source": [
        "def dateparse (datetime):    \n",
        "    return pd.Timestamp(datetime)"
      ],
      "execution_count": 0,
      "outputs": []
    },
    {
      "cell_type": "code",
      "metadata": {
        "id": "TcJzzj_uJykT",
        "colab_type": "code",
        "colab": {}
      },
      "source": [
        "data = pd.read_csv('/content/drive/My Drive/CL_megafon_Cup IT_2020_final_data (1).csv', sep = ';', parse_dates = ['time_start', 'time_end'], date_parser=dateparse)"
      ],
      "execution_count": 0,
      "outputs": []
    },
    {
      "cell_type": "code",
      "metadata": {
        "id": "f8RA_aMFJWVW",
        "colab_type": "code",
        "colab": {
          "base_uri": "https://localhost:8080/",
          "height": 407
        },
        "outputId": "727e4406-e961-4c09-ada8-994a2cda69af"
      },
      "source": [
        "data"
      ],
      "execution_count": 42,
      "outputs": [
        {
          "output_type": "execute_result",
          "data": {
            "text/html": [
              "<div>\n",
              "<style scoped>\n",
              "    .dataframe tbody tr th:only-of-type {\n",
              "        vertical-align: middle;\n",
              "    }\n",
              "\n",
              "    .dataframe tbody tr th {\n",
              "        vertical-align: top;\n",
              "    }\n",
              "\n",
              "    .dataframe thead th {\n",
              "        text-align: right;\n",
              "    }\n",
              "</style>\n",
              "<table border=\"1\" class=\"dataframe\">\n",
              "  <thead>\n",
              "    <tr style=\"text-align: right;\">\n",
              "      <th></th>\n",
              "      <th>time_start</th>\n",
              "      <th>time_end</th>\n",
              "      <th>place_latitude</th>\n",
              "      <th>place_longitude</th>\n",
              "      <th>duration</th>\n",
              "    </tr>\n",
              "  </thead>\n",
              "  <tbody>\n",
              "    <tr>\n",
              "      <th>0</th>\n",
              "      <td>2019-08-24 14:23:56</td>\n",
              "      <td>2019-08-24 18:54:47</td>\n",
              "      <td>28.102908</td>\n",
              "      <td>113.617867</td>\n",
              "      <td>04:30:51</td>\n",
              "    </tr>\n",
              "    <tr>\n",
              "      <th>1</th>\n",
              "      <td>2018-06-19 08:56:22</td>\n",
              "      <td>2018-06-19 12:15:26</td>\n",
              "      <td>28.102908</td>\n",
              "      <td>113.617867</td>\n",
              "      <td>03:19:04</td>\n",
              "    </tr>\n",
              "    <tr>\n",
              "      <th>2</th>\n",
              "      <td>2018-08-29 14:00:32</td>\n",
              "      <td>2018-08-29 14:37:51</td>\n",
              "      <td>28.102908</td>\n",
              "      <td>113.617867</td>\n",
              "      <td>00:37:19</td>\n",
              "    </tr>\n",
              "    <tr>\n",
              "      <th>3</th>\n",
              "      <td>2019-12-10 16:01:26</td>\n",
              "      <td>2019-12-10 16:35:22</td>\n",
              "      <td>28.102908</td>\n",
              "      <td>113.617867</td>\n",
              "      <td>00:33:56</td>\n",
              "    </tr>\n",
              "    <tr>\n",
              "      <th>4</th>\n",
              "      <td>2019-12-10 13:39:42</td>\n",
              "      <td>2019-12-10 17:58:22</td>\n",
              "      <td>28.999495</td>\n",
              "      <td>115.167583</td>\n",
              "      <td>04:18:40</td>\n",
              "    </tr>\n",
              "    <tr>\n",
              "      <th>...</th>\n",
              "      <td>...</td>\n",
              "      <td>...</td>\n",
              "      <td>...</td>\n",
              "      <td>...</td>\n",
              "      <td>...</td>\n",
              "    </tr>\n",
              "    <tr>\n",
              "      <th>78218</th>\n",
              "      <td>2018-06-25 11:25:04</td>\n",
              "      <td>2018-06-25 14:39:32</td>\n",
              "      <td>28.945221</td>\n",
              "      <td>114.357402</td>\n",
              "      <td>03:14:28</td>\n",
              "    </tr>\n",
              "    <tr>\n",
              "      <th>78219</th>\n",
              "      <td>2018-04-06 10:07:13</td>\n",
              "      <td>2018-04-06 16:34:40</td>\n",
              "      <td>28.619318</td>\n",
              "      <td>114.397573</td>\n",
              "      <td>06:27:27</td>\n",
              "    </tr>\n",
              "    <tr>\n",
              "      <th>78220</th>\n",
              "      <td>2018-07-13 22:59:34</td>\n",
              "      <td>2018-07-14 00:05:50</td>\n",
              "      <td>28.619318</td>\n",
              "      <td>114.397573</td>\n",
              "      <td>01:06:16</td>\n",
              "    </tr>\n",
              "    <tr>\n",
              "      <th>78221</th>\n",
              "      <td>2018-11-06 00:05:57</td>\n",
              "      <td>2018-11-06 08:50:10</td>\n",
              "      <td>28.619318</td>\n",
              "      <td>114.397573</td>\n",
              "      <td>08:44:13</td>\n",
              "    </tr>\n",
              "    <tr>\n",
              "      <th>78222</th>\n",
              "      <td>2018-10-15 02:24:15</td>\n",
              "      <td>2018-10-15 18:03:48</td>\n",
              "      <td>28.619318</td>\n",
              "      <td>114.397573</td>\n",
              "      <td>15:39:33</td>\n",
              "    </tr>\n",
              "  </tbody>\n",
              "</table>\n",
              "<p>78223 rows × 5 columns</p>\n",
              "</div>"
            ],
            "text/plain": [
              "               time_start            time_end  ...  place_longitude  duration\n",
              "0     2019-08-24 14:23:56 2019-08-24 18:54:47  ...       113.617867  04:30:51\n",
              "1     2018-06-19 08:56:22 2018-06-19 12:15:26  ...       113.617867  03:19:04\n",
              "2     2018-08-29 14:00:32 2018-08-29 14:37:51  ...       113.617867  00:37:19\n",
              "3     2019-12-10 16:01:26 2019-12-10 16:35:22  ...       113.617867  00:33:56\n",
              "4     2019-12-10 13:39:42 2019-12-10 17:58:22  ...       115.167583  04:18:40\n",
              "...                   ...                 ...  ...              ...       ...\n",
              "78218 2018-06-25 11:25:04 2018-06-25 14:39:32  ...       114.357402  03:14:28\n",
              "78219 2018-04-06 10:07:13 2018-04-06 16:34:40  ...       114.397573  06:27:27\n",
              "78220 2018-07-13 22:59:34 2018-07-14 00:05:50  ...       114.397573  01:06:16\n",
              "78221 2018-11-06 00:05:57 2018-11-06 08:50:10  ...       114.397573  08:44:13\n",
              "78222 2018-10-15 02:24:15 2018-10-15 18:03:48  ...       114.397573  15:39:33\n",
              "\n",
              "[78223 rows x 5 columns]"
            ]
          },
          "metadata": {
            "tags": []
          },
          "execution_count": 42
        }
      ]
    },
    {
      "cell_type": "code",
      "metadata": {
        "id": "iWeX5lgWNj6G",
        "colab_type": "code",
        "colab": {
          "base_uri": "https://localhost:8080/",
          "height": 33
        },
        "outputId": "364a3c02-8da9-425c-bbf2-39e1a3bc85e8"
      },
      "source": [
        " type(data['duration'][0])"
      ],
      "execution_count": 43,
      "outputs": [
        {
          "output_type": "execute_result",
          "data": {
            "text/plain": [
              "pandas._libs.tslibs.timedeltas.Timedelta"
            ]
          },
          "metadata": {
            "tags": []
          },
          "execution_count": 43
        }
      ]
    },
    {
      "cell_type": "code",
      "metadata": {
        "id": "S5aXX_5-3clA",
        "colab_type": "code",
        "colab": {}
      },
      "source": [
        "data['duration'] = data['time_end'] - data['time_start']"
      ],
      "execution_count": 0,
      "outputs": []
    }
  ]
}