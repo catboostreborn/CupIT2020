{
  "nbformat": 4,
  "nbformat_minor": 0,
  "metadata": {
    "kernelspec": {
      "display_name": "Python 3",
      "language": "python",
      "name": "python3"
    },
    "language_info": {
      "codemirror_mode": {
        "name": "ipython",
        "version": 3
      },
      "file_extension": ".py",
      "mimetype": "text/x-python",
      "name": "python",
      "nbconvert_exporter": "python",
      "pygments_lexer": "ipython3",
      "version": "3.7.4"
    },
    "colab": {
      "name": "cup_it_final-Copy2.ipynb",
      "provenance": [],
      "collapsed_sections": [],
      "include_colab_link": true
    }
  },
  "cells": [
    {
      "cell_type": "markdown",
      "metadata": {
        "id": "view-in-github",
        "colab_type": "text"
      },
      "source": [
        "<a href=\"https://colab.research.google.com/github/WildArcher/CupIT2020/blob/master/cup_it_final_Copy2.ipynb\" target=\"_parent\"><img src=\"https://colab.research.google.com/assets/colab-badge.svg\" alt=\"Open In Colab\"/></a>"
      ]
    },
    {
      "cell_type": "code",
      "metadata": {
        "id": "f46NwG5ERvKE",
        "colab_type": "code",
        "colab": {}
      },
      "source": [
        "import pandas as pd\n",
        "import numpy as np\n",
        "import matplotlib.pyplot as plt\n",
        "%matplotlib inline\n",
        "import seaborn as sns"
      ],
      "execution_count": 0,
      "outputs": []
    },
    {
      "cell_type": "code",
      "metadata": {
        "id": "mapDIx1CRvKT",
        "colab_type": "code",
        "colab": {}
      },
      "source": [
        "data = pd.read_csv('CL_megafon_Cup IT_2020_final_data.csv', sep=';')"
      ],
      "execution_count": 0,
      "outputs": []
    },
    {
      "cell_type": "code",
      "metadata": {
        "id": "nn7jlxAvRvKh",
        "colab_type": "code",
        "colab": {}
      },
      "source": [
        "data['time_start'] = pd.to_datetime(data['time_start'])\n",
        "data['time_end'] = pd.to_datetime(data['time_end'])"
      ],
      "execution_count": 0,
      "outputs": []
    },
    {
      "cell_type": "code",
      "metadata": {
        "id": "mySvThOARvKu",
        "colab_type": "code",
        "colab": {
          "base_uri": "https://localhost:8080/",
          "height": 419
        },
        "outputId": "e7d07537-98ca-44b4-b9f1-54886c21b6c7"
      },
      "source": [
        "data['duration'] = data['time_end'] - data['time_start']\n",
        "data['min']= data['duration'].dt.seconds/60\n",
        "data"
      ],
      "execution_count": 159,
      "outputs": [
        {
          "output_type": "execute_result",
          "data": {
            "text/html": [
              "<div>\n",
              "<style scoped>\n",
              "    .dataframe tbody tr th:only-of-type {\n",
              "        vertical-align: middle;\n",
              "    }\n",
              "\n",
              "    .dataframe tbody tr th {\n",
              "        vertical-align: top;\n",
              "    }\n",
              "\n",
              "    .dataframe thead th {\n",
              "        text-align: right;\n",
              "    }\n",
              "</style>\n",
              "<table border=\"1\" class=\"dataframe\">\n",
              "  <thead>\n",
              "    <tr style=\"text-align: right;\">\n",
              "      <th></th>\n",
              "      <th>time_start</th>\n",
              "      <th>time_end</th>\n",
              "      <th>place_latitude</th>\n",
              "      <th>place_longitude</th>\n",
              "      <th>duration</th>\n",
              "      <th>min</th>\n",
              "    </tr>\n",
              "  </thead>\n",
              "  <tbody>\n",
              "    <tr>\n",
              "      <th>0</th>\n",
              "      <td>2019-08-24 14:23:56</td>\n",
              "      <td>2019-08-24 18:54:47</td>\n",
              "      <td>28.102908</td>\n",
              "      <td>113.617867</td>\n",
              "      <td>04:30:51</td>\n",
              "      <td>270.850000</td>\n",
              "    </tr>\n",
              "    <tr>\n",
              "      <th>1</th>\n",
              "      <td>2018-06-19 08:56:22</td>\n",
              "      <td>2018-06-19 12:15:26</td>\n",
              "      <td>28.102908</td>\n",
              "      <td>113.617867</td>\n",
              "      <td>03:19:04</td>\n",
              "      <td>199.066667</td>\n",
              "    </tr>\n",
              "    <tr>\n",
              "      <th>2</th>\n",
              "      <td>2018-08-29 14:00:32</td>\n",
              "      <td>2018-08-29 14:37:51</td>\n",
              "      <td>28.102908</td>\n",
              "      <td>113.617867</td>\n",
              "      <td>00:37:19</td>\n",
              "      <td>37.316667</td>\n",
              "    </tr>\n",
              "    <tr>\n",
              "      <th>3</th>\n",
              "      <td>2019-12-10 16:01:26</td>\n",
              "      <td>2019-12-10 16:35:22</td>\n",
              "      <td>28.102908</td>\n",
              "      <td>113.617867</td>\n",
              "      <td>00:33:56</td>\n",
              "      <td>33.933333</td>\n",
              "    </tr>\n",
              "    <tr>\n",
              "      <th>4</th>\n",
              "      <td>2019-12-10 13:39:42</td>\n",
              "      <td>2019-12-10 17:58:22</td>\n",
              "      <td>28.999495</td>\n",
              "      <td>115.167583</td>\n",
              "      <td>04:18:40</td>\n",
              "      <td>258.666667</td>\n",
              "    </tr>\n",
              "    <tr>\n",
              "      <th>...</th>\n",
              "      <td>...</td>\n",
              "      <td>...</td>\n",
              "      <td>...</td>\n",
              "      <td>...</td>\n",
              "      <td>...</td>\n",
              "      <td>...</td>\n",
              "    </tr>\n",
              "    <tr>\n",
              "      <th>78218</th>\n",
              "      <td>2018-06-25 11:25:04</td>\n",
              "      <td>2018-06-25 14:39:32</td>\n",
              "      <td>28.945221</td>\n",
              "      <td>114.357402</td>\n",
              "      <td>03:14:28</td>\n",
              "      <td>194.466667</td>\n",
              "    </tr>\n",
              "    <tr>\n",
              "      <th>78219</th>\n",
              "      <td>2018-04-06 10:07:13</td>\n",
              "      <td>2018-04-06 16:34:40</td>\n",
              "      <td>28.619318</td>\n",
              "      <td>114.397573</td>\n",
              "      <td>06:27:27</td>\n",
              "      <td>387.450000</td>\n",
              "    </tr>\n",
              "    <tr>\n",
              "      <th>78220</th>\n",
              "      <td>2018-07-13 22:59:34</td>\n",
              "      <td>2018-07-14 00:05:50</td>\n",
              "      <td>28.619318</td>\n",
              "      <td>114.397573</td>\n",
              "      <td>01:06:16</td>\n",
              "      <td>66.266667</td>\n",
              "    </tr>\n",
              "    <tr>\n",
              "      <th>78221</th>\n",
              "      <td>2018-11-06 00:05:57</td>\n",
              "      <td>2018-11-06 08:50:10</td>\n",
              "      <td>28.619318</td>\n",
              "      <td>114.397573</td>\n",
              "      <td>08:44:13</td>\n",
              "      <td>524.216667</td>\n",
              "    </tr>\n",
              "    <tr>\n",
              "      <th>78222</th>\n",
              "      <td>2018-10-15 02:24:15</td>\n",
              "      <td>2018-10-15 18:03:48</td>\n",
              "      <td>28.619318</td>\n",
              "      <td>114.397573</td>\n",
              "      <td>15:39:33</td>\n",
              "      <td>939.550000</td>\n",
              "    </tr>\n",
              "  </tbody>\n",
              "</table>\n",
              "<p>78223 rows × 6 columns</p>\n",
              "</div>"
            ],
            "text/plain": [
              "               time_start            time_end  ...  duration         min\n",
              "0     2019-08-24 14:23:56 2019-08-24 18:54:47  ...  04:30:51  270.850000\n",
              "1     2018-06-19 08:56:22 2018-06-19 12:15:26  ...  03:19:04  199.066667\n",
              "2     2018-08-29 14:00:32 2018-08-29 14:37:51  ...  00:37:19   37.316667\n",
              "3     2019-12-10 16:01:26 2019-12-10 16:35:22  ...  00:33:56   33.933333\n",
              "4     2019-12-10 13:39:42 2019-12-10 17:58:22  ...  04:18:40  258.666667\n",
              "...                   ...                 ...  ...       ...         ...\n",
              "78218 2018-06-25 11:25:04 2018-06-25 14:39:32  ...  03:14:28  194.466667\n",
              "78219 2018-04-06 10:07:13 2018-04-06 16:34:40  ...  06:27:27  387.450000\n",
              "78220 2018-07-13 22:59:34 2018-07-14 00:05:50  ...  01:06:16   66.266667\n",
              "78221 2018-11-06 00:05:57 2018-11-06 08:50:10  ...  08:44:13  524.216667\n",
              "78222 2018-10-15 02:24:15 2018-10-15 18:03:48  ...  15:39:33  939.550000\n",
              "\n",
              "[78223 rows x 6 columns]"
            ]
          },
          "metadata": {
            "tags": []
          },
          "execution_count": 159
        }
      ]
    },
    {
      "cell_type": "code",
      "metadata": {
        "id": "DnaJ5kLORvK6",
        "colab_type": "code",
        "colab": {
          "base_uri": "https://localhost:8080/",
          "height": 204
        },
        "outputId": "54239bd4-6b32-4ec8-ecfc-3d9fd576cfc6"
      },
      "source": [
        "data.info()"
      ],
      "execution_count": 160,
      "outputs": [
        {
          "output_type": "stream",
          "text": [
            "<class 'pandas.core.frame.DataFrame'>\n",
            "RangeIndex: 78223 entries, 0 to 78222\n",
            "Data columns (total 6 columns):\n",
            "time_start         78223 non-null datetime64[ns]\n",
            "time_end           78223 non-null datetime64[ns]\n",
            "place_latitude     78223 non-null float64\n",
            "place_longitude    78223 non-null float64\n",
            "duration           78223 non-null timedelta64[ns]\n",
            "min                78223 non-null float64\n",
            "dtypes: datetime64[ns](2), float64(3), timedelta64[ns](1)\n",
            "memory usage: 3.6 MB\n"
          ],
          "name": "stdout"
        }
      ]
    },
    {
      "cell_type": "code",
      "metadata": {
        "id": "U6ptYTSYRva-",
        "colab_type": "code",
        "colab": {
          "base_uri": "https://localhost:8080/",
          "height": 34
        },
        "outputId": "f58851ab-0c9b-4630-cb3e-68be6d15c7ba"
      },
      "source": [
        "index_fast_repare_in_one_minute = []\n",
        "for i in range(data.shape[0]):\n",
        "    if data['duration'][i] == 0:\n",
        "        index_fast_repare_in_one_minute.append(i)\n",
        "        \n",
        "print(len(index_fast_repare_in_one_minute), 'обрывов закончились в ту же секунду')"
      ],
      "execution_count": 161,
      "outputs": [
        {
          "output_type": "stream",
          "text": [
            "0 обрывов закончились в ту же секунду\n"
          ],
          "name": "stdout"
        }
      ]
    },
    {
      "cell_type": "code",
      "metadata": {
        "id": "gziOvCORRvjF",
        "colab_type": "code",
        "colab": {
          "base_uri": "https://localhost:8080/",
          "height": 34
        },
        "outputId": "08b4b883-a419-4948-8dbb-9f2bc4111bee"
      },
      "source": [
        "from datetime import datetime\n",
        "\n",
        "index_fast_repare_in_one_minute = []\n",
        "for i in range(data.shape[0]):\n",
        "    if data['min'][i] <=2:\n",
        "        index_fast_repare_in_one_minute.append(i)\n",
        "        \n",
        "print(len(index_fast_repare_in_one_minute), 'обрывов закончились меньше чем за 2 минуты')"
      ],
      "execution_count": 162,
      "outputs": [
        {
          "output_type": "stream",
          "text": [
            "100 обрывов закончились меньше чем за 2 минуты\n"
          ],
          "name": "stdout"
        }
      ]
    },
    {
      "cell_type": "code",
      "metadata": {
        "id": "YmCCU-P_Rvjf",
        "colab_type": "code",
        "colab": {
          "base_uri": "https://localhost:8080/",
          "height": 34
        },
        "outputId": "ee21c0a6-5a39-4dbe-ec6d-a6e52e4ffeaa"
      },
      "source": [
        "index_fast_repare_in_one_minute = []\n",
        "for i in range(data.shape[0]):\n",
        "    if data['min'][i] <=60:\n",
        "        index_fast_repare_in_one_minute.append(i)\n",
        "        \n",
        "print(len(index_fast_repare_in_one_minute), 'обрывов закончились меньше чем за час')"
      ],
      "execution_count": 163,
      "outputs": [
        {
          "output_type": "stream",
          "text": [
            "19186 обрывов закончились меньше чем за час\n"
          ],
          "name": "stdout"
        }
      ]
    },
    {
      "cell_type": "code",
      "metadata": {
        "id": "t2r3Ai1QRvj0",
        "colab_type": "code",
        "colab": {
          "base_uri": "https://localhost:8080/",
          "height": 1000
        },
        "outputId": "d82aa1ec-46f0-4b1e-fd39-f9e847cd2f99"
      },
      "source": [
        "fig, axes = plt.subplots(figsize=(20, 20))\n",
        "plt.scatter(data['place_latitude'].values.reshape(-1,1), data['place_longitude'].values.reshape(-1,1), s=10)"
      ],
      "execution_count": 164,
      "outputs": [
        {
          "output_type": "execute_result",
          "data": {
            "text/plain": [
              "<matplotlib.collections.PathCollection at 0x7fb74180d7f0>"
            ]
          },
          "metadata": {
            "tags": []
          },
          "execution_count": 164
        },
        {
          "output_type": "display_data",
          "data": {
            "image/png": "[encoded data removed]",
            "text/plain": [
              "<Figure size 1440x1440 with 1 Axes>"
            ]
          },
          "metadata": {
            "tags": []
          }
        }
      ]
    },
    {
      "cell_type": "code",
      "metadata": {
        "id": "wPguubYVRvkj",
        "colab_type": "code",
        "colab": {}
      },
      "source": [
        "data_target = data['min'].copy()"
      ],
      "execution_count": 0,
      "outputs": []
    },
    {
      "cell_type": "code",
      "metadata": {
        "id": "tFS5vmchRvl5",
        "colab_type": "code",
        "colab": {
          "base_uri": "https://localhost:8080/",
          "height": 419
        },
        "outputId": "e99fec3a-8bf8-4c02-b5a7-21fcbf0c9d22"
      },
      "source": [
        "data"
      ],
      "execution_count": 166,
      "outputs": [
        {
          "output_type": "execute_result",
          "data": {
            "text/html": [
              "<div>\n",
              "<style scoped>\n",
              "    .dataframe tbody tr th:only-of-type {\n",
              "        vertical-align: middle;\n",
              "    }\n",
              "\n",
              "    .dataframe tbody tr th {\n",
              "        vertical-align: top;\n",
              "    }\n",
              "\n",
              "    .dataframe thead th {\n",
              "        text-align: right;\n",
              "    }\n",
              "</style>\n",
              "<table border=\"1\" class=\"dataframe\">\n",
              "  <thead>\n",
              "    <tr style=\"text-align: right;\">\n",
              "      <th></th>\n",
              "      <th>time_start</th>\n",
              "      <th>time_end</th>\n",
              "      <th>place_latitude</th>\n",
              "      <th>place_longitude</th>\n",
              "      <th>duration</th>\n",
              "      <th>min</th>\n",
              "    </tr>\n",
              "  </thead>\n",
              "  <tbody>\n",
              "    <tr>\n",
              "      <th>0</th>\n",
              "      <td>2019-08-24 14:23:56</td>\n",
              "      <td>2019-08-24 18:54:47</td>\n",
              "      <td>28.102908</td>\n",
              "      <td>113.617867</td>\n",
              "      <td>04:30:51</td>\n",
              "      <td>270.850000</td>\n",
              "    </tr>\n",
              "    <tr>\n",
              "      <th>1</th>\n",
              "      <td>2018-06-19 08:56:22</td>\n",
              "      <td>2018-06-19 12:15:26</td>\n",
              "      <td>28.102908</td>\n",
              "      <td>113.617867</td>\n",
              "      <td>03:19:04</td>\n",
              "      <td>199.066667</td>\n",
              "    </tr>\n",
              "    <tr>\n",
              "      <th>2</th>\n",
              "      <td>2018-08-29 14:00:32</td>\n",
              "      <td>2018-08-29 14:37:51</td>\n",
              "      <td>28.102908</td>\n",
              "      <td>113.617867</td>\n",
              "      <td>00:37:19</td>\n",
              "      <td>37.316667</td>\n",
              "    </tr>\n",
              "    <tr>\n",
              "      <th>3</th>\n",
              "      <td>2019-12-10 16:01:26</td>\n",
              "      <td>2019-12-10 16:35:22</td>\n",
              "      <td>28.102908</td>\n",
              "      <td>113.617867</td>\n",
              "      <td>00:33:56</td>\n",
              "      <td>33.933333</td>\n",
              "    </tr>\n",
              "    <tr>\n",
              "      <th>4</th>\n",
              "      <td>2019-12-10 13:39:42</td>\n",
              "      <td>2019-12-10 17:58:22</td>\n",
              "      <td>28.999495</td>\n",
              "      <td>115.167583</td>\n",
              "      <td>04:18:40</td>\n",
              "      <td>258.666667</td>\n",
              "    </tr>\n",
              "    <tr>\n",
              "      <th>...</th>\n",
              "      <td>...</td>\n",
              "      <td>...</td>\n",
              "      <td>...</td>\n",
              "      <td>...</td>\n",
              "      <td>...</td>\n",
              "      <td>...</td>\n",
              "    </tr>\n",
              "    <tr>\n",
              "      <th>78218</th>\n",
              "      <td>2018-06-25 11:25:04</td>\n",
              "      <td>2018-06-25 14:39:32</td>\n",
              "      <td>28.945221</td>\n",
              "      <td>114.357402</td>\n",
              "      <td>03:14:28</td>\n",
              "      <td>194.466667</td>\n",
              "    </tr>\n",
              "    <tr>\n",
              "      <th>78219</th>\n",
              "      <td>2018-04-06 10:07:13</td>\n",
              "      <td>2018-04-06 16:34:40</td>\n",
              "      <td>28.619318</td>\n",
              "      <td>114.397573</td>\n",
              "      <td>06:27:27</td>\n",
              "      <td>387.450000</td>\n",
              "    </tr>\n",
              "    <tr>\n",
              "      <th>78220</th>\n",
              "      <td>2018-07-13 22:59:34</td>\n",
              "      <td>2018-07-14 00:05:50</td>\n",
              "      <td>28.619318</td>\n",
              "      <td>114.397573</td>\n",
              "      <td>01:06:16</td>\n",
              "      <td>66.266667</td>\n",
              "    </tr>\n",
              "    <tr>\n",
              "      <th>78221</th>\n",
              "      <td>2018-11-06 00:05:57</td>\n",
              "      <td>2018-11-06 08:50:10</td>\n",
              "      <td>28.619318</td>\n",
              "      <td>114.397573</td>\n",
              "      <td>08:44:13</td>\n",
              "      <td>524.216667</td>\n",
              "    </tr>\n",
              "    <tr>\n",
              "      <th>78222</th>\n",
              "      <td>2018-10-15 02:24:15</td>\n",
              "      <td>2018-10-15 18:03:48</td>\n",
              "      <td>28.619318</td>\n",
              "      <td>114.397573</td>\n",
              "      <td>15:39:33</td>\n",
              "      <td>939.550000</td>\n",
              "    </tr>\n",
              "  </tbody>\n",
              "</table>\n",
              "<p>78223 rows × 6 columns</p>\n",
              "</div>"
            ],
            "text/plain": [
              "               time_start            time_end  ...  duration         min\n",
              "0     2019-08-24 14:23:56 2019-08-24 18:54:47  ...  04:30:51  270.850000\n",
              "1     2018-06-19 08:56:22 2018-06-19 12:15:26  ...  03:19:04  199.066667\n",
              "2     2018-08-29 14:00:32 2018-08-29 14:37:51  ...  00:37:19   37.316667\n",
              "3     2019-12-10 16:01:26 2019-12-10 16:35:22  ...  00:33:56   33.933333\n",
              "4     2019-12-10 13:39:42 2019-12-10 17:58:22  ...  04:18:40  258.666667\n",
              "...                   ...                 ...  ...       ...         ...\n",
              "78218 2018-06-25 11:25:04 2018-06-25 14:39:32  ...  03:14:28  194.466667\n",
              "78219 2018-04-06 10:07:13 2018-04-06 16:34:40  ...  06:27:27  387.450000\n",
              "78220 2018-07-13 22:59:34 2018-07-14 00:05:50  ...  01:06:16   66.266667\n",
              "78221 2018-11-06 00:05:57 2018-11-06 08:50:10  ...  08:44:13  524.216667\n",
              "78222 2018-10-15 02:24:15 2018-10-15 18:03:48  ...  15:39:33  939.550000\n",
              "\n",
              "[78223 rows x 6 columns]"
            ]
          },
          "metadata": {
            "tags": []
          },
          "execution_count": 166
        }
      ]
    },
    {
      "cell_type": "code",
      "metadata": {
        "id": "oJ5VdWL5Rvnr",
        "colab_type": "code",
        "colab": {
          "base_uri": "https://localhost:8080/",
          "height": 282
        },
        "outputId": "2fb7d113-3447-4805-9003-cc093f8587a0"
      },
      "source": [
        "data['min'].hist(bins=100)"
      ],
      "execution_count": 167,
      "outputs": [
        {
          "output_type": "execute_result",
          "data": {
            "text/plain": [
              "<matplotlib.axes._subplots.AxesSubplot at 0x7fb74038ad68>"
            ]
          },
          "metadata": {
            "tags": []
          },
          "execution_count": 167
        },
        {
          "output_type": "display_data",
          "data": {
            "image/png": "[encoded data removed]",
            "text/plain": [
              "<Figure size 432x288 with 1 Axes>"
            ]
          },
          "metadata": {
            "tags": []
          }
        }
      ]
    },
    {
      "cell_type": "code",
      "metadata": {
        "id": "Tg8hSYyPRvq2",
        "colab_type": "code",
        "colab": {}
      },
      "source": [
        "low, up = np.percentile(data['min'].values, [1 , 95]) \n",
        "\n",
        "bad_index = list(data[data['min'].values > up].index)"
      ],
      "execution_count": 0,
      "outputs": []
    },
    {
      "cell_type": "code",
      "metadata": {
        "id": "dNT5zwDORvvt",
        "colab_type": "code",
        "colab": {
          "base_uri": "https://localhost:8080/",
          "height": 282
        },
        "outputId": "c3db0f98-4800-4b91-ecd2-6b836338e2ff"
      },
      "source": [
        "data['min'].drop(index=bad_index).hist(bins=200)"
      ],
      "execution_count": 169,
      "outputs": [
        {
          "output_type": "execute_result",
          "data": {
            "text/plain": [
              "<matplotlib.axes._subplots.AxesSubplot at 0x7fb74180df60>"
            ]
          },
          "metadata": {
            "tags": []
          },
          "execution_count": 169
        },
        {
          "output_type": "display_data",
          "data": {
            "image/png": "[encoded data removed]",
            "text/plain": [
              "<Figure size 432x288 with 1 Axes>"
            ]
          },
          "metadata": {
            "tags": []
          }
        }
      ]
    },
    {
      "cell_type": "code",
      "metadata": {
        "id": "OSUE4q6xRvx2",
        "colab_type": "code",
        "colab": {}
      },
      "source": [
        "data.drop(index=bad_index, inplace=True)\n",
        "data.index = range(data.shape[0])"
      ],
      "execution_count": 0,
      "outputs": []
    },
    {
      "cell_type": "markdown",
      "metadata": {
        "id": "z27mun37Rv0n",
        "colab_type": "text"
      },
      "source": [
        "## MeanShift"
      ]
    },
    {
      "cell_type": "code",
      "metadata": {
        "id": "QKAH5IflRv1A",
        "colab_type": "code",
        "colab": {}
      },
      "source": [
        "from sklearn.cluster import MeanShift"
      ],
      "execution_count": 0,
      "outputs": []
    },
    {
      "cell_type": "code",
      "metadata": {
        "id": "FulkRLyTRv17",
        "colab_type": "code",
        "colab": {}
      },
      "source": [
        "new_data = data[['place_latitude', 'place_longitude']].copy()"
      ],
      "execution_count": 0,
      "outputs": []
    },
    {
      "cell_type": "code",
      "metadata": {
        "id": "84HBfZaqRv4g",
        "colab_type": "code",
        "colab": {
          "base_uri": "https://localhost:8080/",
          "height": 419
        },
        "outputId": "84258247-74a9-46b5-9bcc-0b73d566e09d"
      },
      "source": [
        "new_data"
      ],
      "execution_count": 173,
      "outputs": [
        {
          "output_type": "execute_result",
          "data": {
            "text/html": [
              "<div>\n",
              "<style scoped>\n",
              "    .dataframe tbody tr th:only-of-type {\n",
              "        vertical-align: middle;\n",
              "    }\n",
              "\n",
              "    .dataframe tbody tr th {\n",
              "        vertical-align: top;\n",
              "    }\n",
              "\n",
              "    .dataframe thead th {\n",
              "        text-align: right;\n",
              "    }\n",
              "</style>\n",
              "<table border=\"1\" class=\"dataframe\">\n",
              "  <thead>\n",
              "    <tr style=\"text-align: right;\">\n",
              "      <th></th>\n",
              "      <th>place_latitude</th>\n",
              "      <th>place_longitude</th>\n",
              "    </tr>\n",
              "  </thead>\n",
              "  <tbody>\n",
              "    <tr>\n",
              "      <th>0</th>\n",
              "      <td>28.102908</td>\n",
              "      <td>113.617867</td>\n",
              "    </tr>\n",
              "    <tr>\n",
              "      <th>1</th>\n",
              "      <td>28.102908</td>\n",
              "      <td>113.617867</td>\n",
              "    </tr>\n",
              "    <tr>\n",
              "      <th>2</th>\n",
              "      <td>28.102908</td>\n",
              "      <td>113.617867</td>\n",
              "    </tr>\n",
              "    <tr>\n",
              "      <th>3</th>\n",
              "      <td>28.102908</td>\n",
              "      <td>113.617867</td>\n",
              "    </tr>\n",
              "    <tr>\n",
              "      <th>4</th>\n",
              "      <td>28.999495</td>\n",
              "      <td>115.167583</td>\n",
              "    </tr>\n",
              "    <tr>\n",
              "      <th>...</th>\n",
              "      <td>...</td>\n",
              "      <td>...</td>\n",
              "    </tr>\n",
              "    <tr>\n",
              "      <th>74306</th>\n",
              "      <td>28.945221</td>\n",
              "      <td>114.357402</td>\n",
              "    </tr>\n",
              "    <tr>\n",
              "      <th>74307</th>\n",
              "      <td>28.945221</td>\n",
              "      <td>114.357402</td>\n",
              "    </tr>\n",
              "    <tr>\n",
              "      <th>74308</th>\n",
              "      <td>28.619318</td>\n",
              "      <td>114.397573</td>\n",
              "    </tr>\n",
              "    <tr>\n",
              "      <th>74309</th>\n",
              "      <td>28.619318</td>\n",
              "      <td>114.397573</td>\n",
              "    </tr>\n",
              "    <tr>\n",
              "      <th>74310</th>\n",
              "      <td>28.619318</td>\n",
              "      <td>114.397573</td>\n",
              "    </tr>\n",
              "  </tbody>\n",
              "</table>\n",
              "<p>74311 rows × 2 columns</p>\n",
              "</div>"
            ],
            "text/plain": [
              "       place_latitude  place_longitude\n",
              "0           28.102908       113.617867\n",
              "1           28.102908       113.617867\n",
              "2           28.102908       113.617867\n",
              "3           28.102908       113.617867\n",
              "4           28.999495       115.167583\n",
              "...               ...              ...\n",
              "74306       28.945221       114.357402\n",
              "74307       28.945221       114.357402\n",
              "74308       28.619318       114.397573\n",
              "74309       28.619318       114.397573\n",
              "74310       28.619318       114.397573\n",
              "\n",
              "[74311 rows x 2 columns]"
            ]
          },
          "metadata": {
            "tags": []
          },
          "execution_count": 173
        }
      ]
    },
    {
      "cell_type": "code",
      "metadata": {
        "id": "P1mfDpJyRv8w",
        "colab_type": "code",
        "colab": {
          "base_uri": "https://localhost:8080/",
          "height": 51
        },
        "outputId": "50aeab11-ba00-431c-beaf-60e18c1fa1a8"
      },
      "source": [
        "%%time\n",
        "\n",
        "clustering = MeanShift(bandwidth = 0.1, n_jobs=-1).fit(new_data)"
      ],
      "execution_count": 174,
      "outputs": [
        {
          "output_type": "stream",
          "text": [
            "CPU times: user 19.1 s, sys: 1.66 s, total: 20.7 s\n",
            "Wall time: 7min 59s\n"
          ],
          "name": "stdout"
        }
      ]
    },
    {
      "cell_type": "code",
      "metadata": {
        "id": "DYP9-sCvRv88",
        "colab_type": "code",
        "colab": {
          "base_uri": "https://localhost:8080/",
          "height": 34
        },
        "outputId": "d2e7c2c5-2bf9-4f30-e827-ef17940ca912"
      },
      "source": [
        "len(np.unique(clustering.predict(new_data)))"
      ],
      "execution_count": 175,
      "outputs": [
        {
          "output_type": "execute_result",
          "data": {
            "text/plain": [
              "518"
            ]
          },
          "metadata": {
            "tags": []
          },
          "execution_count": 175
        }
      ]
    },
    {
      "cell_type": "code",
      "metadata": {
        "id": "n9FRJR5PRv9T",
        "colab_type": "code",
        "colab": {}
      },
      "source": [
        "new_data['class'] = clustering.predict(new_data)"
      ],
      "execution_count": 0,
      "outputs": []
    },
    {
      "cell_type": "code",
      "metadata": {
        "id": "C0_UJifCRv-o",
        "colab_type": "code",
        "colab": {
          "base_uri": "https://localhost:8080/",
          "height": 419
        },
        "outputId": "24a92cb9-6ea3-4c0f-c8ef-6d76504db6dc"
      },
      "source": [
        "new_data"
      ],
      "execution_count": 177,
      "outputs": [
        {
          "output_type": "execute_result",
          "data": {
            "text/html": [
              "<div>\n",
              "<style scoped>\n",
              "    .dataframe tbody tr th:only-of-type {\n",
              "        vertical-align: middle;\n",
              "    }\n",
              "\n",
              "    .dataframe tbody tr th {\n",
              "        vertical-align: top;\n",
              "    }\n",
              "\n",
              "    .dataframe thead th {\n",
              "        text-align: right;\n",
              "    }\n",
              "</style>\n",
              "<table border=\"1\" class=\"dataframe\">\n",
              "  <thead>\n",
              "    <tr style=\"text-align: right;\">\n",
              "      <th></th>\n",
              "      <th>place_latitude</th>\n",
              "      <th>place_longitude</th>\n",
              "      <th>class</th>\n",
              "    </tr>\n",
              "  </thead>\n",
              "  <tbody>\n",
              "    <tr>\n",
              "      <th>0</th>\n",
              "      <td>28.102908</td>\n",
              "      <td>113.617867</td>\n",
              "      <td>58</td>\n",
              "    </tr>\n",
              "    <tr>\n",
              "      <th>1</th>\n",
              "      <td>28.102908</td>\n",
              "      <td>113.617867</td>\n",
              "      <td>58</td>\n",
              "    </tr>\n",
              "    <tr>\n",
              "      <th>2</th>\n",
              "      <td>28.102908</td>\n",
              "      <td>113.617867</td>\n",
              "      <td>58</td>\n",
              "    </tr>\n",
              "    <tr>\n",
              "      <th>3</th>\n",
              "      <td>28.102908</td>\n",
              "      <td>113.617867</td>\n",
              "      <td>58</td>\n",
              "    </tr>\n",
              "    <tr>\n",
              "      <th>4</th>\n",
              "      <td>28.999495</td>\n",
              "      <td>115.167583</td>\n",
              "      <td>42</td>\n",
              "    </tr>\n",
              "    <tr>\n",
              "      <th>...</th>\n",
              "      <td>...</td>\n",
              "      <td>...</td>\n",
              "      <td>...</td>\n",
              "    </tr>\n",
              "    <tr>\n",
              "      <th>74306</th>\n",
              "      <td>28.945221</td>\n",
              "      <td>114.357402</td>\n",
              "      <td>14</td>\n",
              "    </tr>\n",
              "    <tr>\n",
              "      <th>74307</th>\n",
              "      <td>28.945221</td>\n",
              "      <td>114.357402</td>\n",
              "      <td>14</td>\n",
              "    </tr>\n",
              "    <tr>\n",
              "      <th>74308</th>\n",
              "      <td>28.619318</td>\n",
              "      <td>114.397573</td>\n",
              "      <td>2</td>\n",
              "    </tr>\n",
              "    <tr>\n",
              "      <th>74309</th>\n",
              "      <td>28.619318</td>\n",
              "      <td>114.397573</td>\n",
              "      <td>2</td>\n",
              "    </tr>\n",
              "    <tr>\n",
              "      <th>74310</th>\n",
              "      <td>28.619318</td>\n",
              "      <td>114.397573</td>\n",
              "      <td>2</td>\n",
              "    </tr>\n",
              "  </tbody>\n",
              "</table>\n",
              "<p>74311 rows × 3 columns</p>\n",
              "</div>"
            ],
            "text/plain": [
              "       place_latitude  place_longitude  class\n",
              "0           28.102908       113.617867     58\n",
              "1           28.102908       113.617867     58\n",
              "2           28.102908       113.617867     58\n",
              "3           28.102908       113.617867     58\n",
              "4           28.999495       115.167583     42\n",
              "...               ...              ...    ...\n",
              "74306       28.945221       114.357402     14\n",
              "74307       28.945221       114.357402     14\n",
              "74308       28.619318       114.397573      2\n",
              "74309       28.619318       114.397573      2\n",
              "74310       28.619318       114.397573      2\n",
              "\n",
              "[74311 rows x 3 columns]"
            ]
          },
          "metadata": {
            "tags": []
          },
          "execution_count": 177
        }
      ]
    },
    {
      "cell_type": "code",
      "metadata": {
        "id": "-CqYkwk4Rv_a",
        "colab_type": "code",
        "colab": {
          "base_uri": "https://localhost:8080/",
          "height": 880
        },
        "outputId": "35669ef6-d487-4766-a504-a9ab742adf05"
      },
      "source": [
        "fig, axes = plt.subplots(figsize=(15, 15))\n",
        "plt.scatter(new_data['place_latitude'].values.reshape(-1,1), \n",
        "            new_data['place_longitude'].values.reshape(-1,1), s=10)"
      ],
      "execution_count": 178,
      "outputs": [
        {
          "output_type": "execute_result",
          "data": {
            "text/plain": [
              "<matplotlib.collections.PathCollection at 0x7fb74038a7b8>"
            ]
          },
          "metadata": {
            "tags": []
          },
          "execution_count": 178
        },
        {
          "output_type": "display_data",
          "data": {
            "image/png": "[encoded data removed]",
            "text/plain": [
              "<Figure size 1080x1080 with 1 Axes>"
            ]
          },
          "metadata": {
            "tags": []
          }
        }
      ]
    },
    {
      "cell_type": "code",
      "metadata": {
        "id": "6zYZ9uY0RwAY",
        "colab_type": "code",
        "colab": {
          "base_uri": "https://localhost:8080/",
          "height": 883
        },
        "outputId": "03a2a310-7456-40e8-ee2f-b3df47a9e504"
      },
      "source": [
        "fig, axes = plt.subplots(figsize=(15, 15))\n",
        "plt.scatter(new_data['place_latitude'][new_data['class'] == 58].values.reshape(-1,1), \n",
        "            new_data['place_longitude'][new_data['class'] == 58].values.reshape(-1,1), s=10)"
      ],
      "execution_count": 179,
      "outputs": [
        {
          "output_type": "execute_result",
          "data": {
            "text/plain": [
              "<matplotlib.collections.PathCollection at 0x7fb740bd4518>"
            ]
          },
          "metadata": {
            "tags": []
          },
          "execution_count": 179
        },
        {
          "output_type": "display_data",
          "data": {
            "image/png": "[encoded data removed]",
            "text/plain": [
              "<Figure size 1080x1080 with 1 Axes>"
            ]
          },
          "metadata": {
            "tags": []
          }
        }
      ]
    },
    {
      "cell_type": "code",
      "metadata": {
        "id": "kN479AtiRwDH",
        "colab_type": "code",
        "colab": {}
      },
      "source": [
        "data['class'] = new_data['class']"
      ],
      "execution_count": 0,
      "outputs": []
    },
    {
      "cell_type": "code",
      "metadata": {
        "id": "dFirq36HRwD9",
        "colab_type": "code",
        "colab": {
          "base_uri": "https://localhost:8080/",
          "height": 419
        },
        "outputId": "73d0bbf8-3ac2-4ea9-dbdf-6b40920d675c"
      },
      "source": [
        "data"
      ],
      "execution_count": 181,
      "outputs": [
        {
          "output_type": "execute_result",
          "data": {
            "text/html": [
              "<div>\n",
              "<style scoped>\n",
              "    .dataframe tbody tr th:only-of-type {\n",
              "        vertical-align: middle;\n",
              "    }\n",
              "\n",
              "    .dataframe tbody tr th {\n",
              "        vertical-align: top;\n",
              "    }\n",
              "\n",
              "    .dataframe thead th {\n",
              "        text-align: right;\n",
              "    }\n",
              "</style>\n",
              "<table border=\"1\" class=\"dataframe\">\n",
              "  <thead>\n",
              "    <tr style=\"text-align: right;\">\n",
              "      <th></th>\n",
              "      <th>time_start</th>\n",
              "      <th>time_end</th>\n",
              "      <th>place_latitude</th>\n",
              "      <th>place_longitude</th>\n",
              "      <th>duration</th>\n",
              "      <th>min</th>\n",
              "      <th>class</th>\n",
              "    </tr>\n",
              "  </thead>\n",
              "  <tbody>\n",
              "    <tr>\n",
              "      <th>0</th>\n",
              "      <td>2019-08-24 14:23:56</td>\n",
              "      <td>2019-08-24 18:54:47</td>\n",
              "      <td>28.102908</td>\n",
              "      <td>113.617867</td>\n",
              "      <td>04:30:51</td>\n",
              "      <td>270.850000</td>\n",
              "      <td>58</td>\n",
              "    </tr>\n",
              "    <tr>\n",
              "      <th>1</th>\n",
              "      <td>2018-06-19 08:56:22</td>\n",
              "      <td>2018-06-19 12:15:26</td>\n",
              "      <td>28.102908</td>\n",
              "      <td>113.617867</td>\n",
              "      <td>03:19:04</td>\n",
              "      <td>199.066667</td>\n",
              "      <td>58</td>\n",
              "    </tr>\n",
              "    <tr>\n",
              "      <th>2</th>\n",
              "      <td>2018-08-29 14:00:32</td>\n",
              "      <td>2018-08-29 14:37:51</td>\n",
              "      <td>28.102908</td>\n",
              "      <td>113.617867</td>\n",
              "      <td>00:37:19</td>\n",
              "      <td>37.316667</td>\n",
              "      <td>58</td>\n",
              "    </tr>\n",
              "    <tr>\n",
              "      <th>3</th>\n",
              "      <td>2019-12-10 16:01:26</td>\n",
              "      <td>2019-12-10 16:35:22</td>\n",
              "      <td>28.102908</td>\n",
              "      <td>113.617867</td>\n",
              "      <td>00:33:56</td>\n",
              "      <td>33.933333</td>\n",
              "      <td>58</td>\n",
              "    </tr>\n",
              "    <tr>\n",
              "      <th>4</th>\n",
              "      <td>2019-12-10 13:39:42</td>\n",
              "      <td>2019-12-10 17:58:22</td>\n",
              "      <td>28.999495</td>\n",
              "      <td>115.167583</td>\n",
              "      <td>04:18:40</td>\n",
              "      <td>258.666667</td>\n",
              "      <td>42</td>\n",
              "    </tr>\n",
              "    <tr>\n",
              "      <th>...</th>\n",
              "      <td>...</td>\n",
              "      <td>...</td>\n",
              "      <td>...</td>\n",
              "      <td>...</td>\n",
              "      <td>...</td>\n",
              "      <td>...</td>\n",
              "      <td>...</td>\n",
              "    </tr>\n",
              "    <tr>\n",
              "      <th>74306</th>\n",
              "      <td>2018-09-28 10:17:20</td>\n",
              "      <td>2018-09-28 14:33:46</td>\n",
              "      <td>28.945221</td>\n",
              "      <td>114.357402</td>\n",
              "      <td>04:16:26</td>\n",
              "      <td>256.433333</td>\n",
              "      <td>14</td>\n",
              "    </tr>\n",
              "    <tr>\n",
              "      <th>74307</th>\n",
              "      <td>2018-06-25 11:25:04</td>\n",
              "      <td>2018-06-25 14:39:32</td>\n",
              "      <td>28.945221</td>\n",
              "      <td>114.357402</td>\n",
              "      <td>03:14:28</td>\n",
              "      <td>194.466667</td>\n",
              "      <td>14</td>\n",
              "    </tr>\n",
              "    <tr>\n",
              "      <th>74308</th>\n",
              "      <td>2018-04-06 10:07:13</td>\n",
              "      <td>2018-04-06 16:34:40</td>\n",
              "      <td>28.619318</td>\n",
              "      <td>114.397573</td>\n",
              "      <td>06:27:27</td>\n",
              "      <td>387.450000</td>\n",
              "      <td>2</td>\n",
              "    </tr>\n",
              "    <tr>\n",
              "      <th>74309</th>\n",
              "      <td>2018-07-13 22:59:34</td>\n",
              "      <td>2018-07-14 00:05:50</td>\n",
              "      <td>28.619318</td>\n",
              "      <td>114.397573</td>\n",
              "      <td>01:06:16</td>\n",
              "      <td>66.266667</td>\n",
              "      <td>2</td>\n",
              "    </tr>\n",
              "    <tr>\n",
              "      <th>74310</th>\n",
              "      <td>2018-11-06 00:05:57</td>\n",
              "      <td>2018-11-06 08:50:10</td>\n",
              "      <td>28.619318</td>\n",
              "      <td>114.397573</td>\n",
              "      <td>08:44:13</td>\n",
              "      <td>524.216667</td>\n",
              "      <td>2</td>\n",
              "    </tr>\n",
              "  </tbody>\n",
              "</table>\n",
              "<p>74311 rows × 7 columns</p>\n",
              "</div>"
            ],
            "text/plain": [
              "               time_start            time_end  ...         min  class\n",
              "0     2019-08-24 14:23:56 2019-08-24 18:54:47  ...  270.850000     58\n",
              "1     2018-06-19 08:56:22 2018-06-19 12:15:26  ...  199.066667     58\n",
              "2     2018-08-29 14:00:32 2018-08-29 14:37:51  ...   37.316667     58\n",
              "3     2019-12-10 16:01:26 2019-12-10 16:35:22  ...   33.933333     58\n",
              "4     2019-12-10 13:39:42 2019-12-10 17:58:22  ...  258.666667     42\n",
              "...                   ...                 ...  ...         ...    ...\n",
              "74306 2018-09-28 10:17:20 2018-09-28 14:33:46  ...  256.433333     14\n",
              "74307 2018-06-25 11:25:04 2018-06-25 14:39:32  ...  194.466667     14\n",
              "74308 2018-04-06 10:07:13 2018-04-06 16:34:40  ...  387.450000      2\n",
              "74309 2018-07-13 22:59:34 2018-07-14 00:05:50  ...   66.266667      2\n",
              "74310 2018-11-06 00:05:57 2018-11-06 08:50:10  ...  524.216667      2\n",
              "\n",
              "[74311 rows x 7 columns]"
            ]
          },
          "metadata": {
            "tags": []
          },
          "execution_count": 181
        }
      ]
    },
    {
      "cell_type": "code",
      "metadata": {
        "id": "Xiot4zEqYlv2",
        "colab_type": "code",
        "colab": {}
      },
      "source": [
        "data_for_time_series = data[['time_start', 'min']][data['class'] == 58].copy()"
      ],
      "execution_count": 0,
      "outputs": []
    },
    {
      "cell_type": "code",
      "metadata": {
        "id": "op-VaZryZXV1",
        "colab_type": "code",
        "colab": {}
      },
      "source": [
        "data_for_time_series = data_for_time_series.iloc[:, :4]"
      ],
      "execution_count": 0,
      "outputs": []
    },
    {
      "cell_type": "markdown",
      "metadata": {
        "id": "dusVJQW_GZfv",
        "colab_type": "text"
      },
      "source": [
        "## Time series для одного кластера\n"
      ]
    },
    {
      "cell_type": "code",
      "metadata": {
        "id": "K_Nn4GpHcIED",
        "colab_type": "code",
        "colab": {}
      },
      "source": [
        "import sys\n",
        "import warnings\n",
        "warnings.filterwarnings('ignore')\n",
        "from tqdm import tqdm\n",
        "from sklearn.metrics import mean_absolute_error\n",
        "\n",
        "import statsmodels.formula.api as smf\n",
        "import statsmodels.tsa.api as smt\n",
        "import statsmodels.api as sm\n",
        "import scipy.stats as scs\n",
        "from scipy.optimize import minimize\n",
        "\n",
        "from sklearn.linear_model import LinearRegression"
      ],
      "execution_count": 0,
      "outputs": []
    },
    {
      "cell_type": "code",
      "metadata": {
        "id": "CfHZpUZUn8yh",
        "colab_type": "code",
        "colab": {
          "base_uri": "https://localhost:8080/",
          "height": 419
        },
        "outputId": "08425a45-b4a0-4a15-d182-b36fb735e5bb"
      },
      "source": [
        "data_for_time_series"
      ],
      "execution_count": 204,
      "outputs": [
        {
          "output_type": "execute_result",
          "data": {
            "text/html": [
              "<div>\n",
              "<style scoped>\n",
              "    .dataframe tbody tr th:only-of-type {\n",
              "        vertical-align: middle;\n",
              "    }\n",
              "\n",
              "    .dataframe tbody tr th {\n",
              "        vertical-align: top;\n",
              "    }\n",
              "\n",
              "    .dataframe thead th {\n",
              "        text-align: right;\n",
              "    }\n",
              "</style>\n",
              "<table border=\"1\" class=\"dataframe\">\n",
              "  <thead>\n",
              "    <tr style=\"text-align: right;\">\n",
              "      <th></th>\n",
              "      <th>time_start</th>\n",
              "      <th>min</th>\n",
              "    </tr>\n",
              "  </thead>\n",
              "  <tbody>\n",
              "    <tr>\n",
              "      <th>0</th>\n",
              "      <td>2019-08-24 14:23:56</td>\n",
              "      <td>270.850000</td>\n",
              "    </tr>\n",
              "    <tr>\n",
              "      <th>1</th>\n",
              "      <td>2018-06-19 08:56:22</td>\n",
              "      <td>199.066667</td>\n",
              "    </tr>\n",
              "    <tr>\n",
              "      <th>2</th>\n",
              "      <td>2018-08-29 14:00:32</td>\n",
              "      <td>37.316667</td>\n",
              "    </tr>\n",
              "    <tr>\n",
              "      <th>3</th>\n",
              "      <td>2019-12-10 16:01:26</td>\n",
              "      <td>33.933333</td>\n",
              "    </tr>\n",
              "    <tr>\n",
              "      <th>1110</th>\n",
              "      <td>2018-08-07 20:36:49</td>\n",
              "      <td>72.900000</td>\n",
              "    </tr>\n",
              "    <tr>\n",
              "      <th>...</th>\n",
              "      <td>...</td>\n",
              "      <td>...</td>\n",
              "    </tr>\n",
              "    <tr>\n",
              "      <th>72561</th>\n",
              "      <td>2019-12-25 11:38:35</td>\n",
              "      <td>175.283333</td>\n",
              "    </tr>\n",
              "    <tr>\n",
              "      <th>72562</th>\n",
              "      <td>2019-12-20 11:04:25</td>\n",
              "      <td>409.916667</td>\n",
              "    </tr>\n",
              "    <tr>\n",
              "      <th>72563</th>\n",
              "      <td>2019-12-10 16:26:18</td>\n",
              "      <td>84.616667</td>\n",
              "    </tr>\n",
              "    <tr>\n",
              "      <th>72866</th>\n",
              "      <td>2019-01-20 17:59:36</td>\n",
              "      <td>155.833333</td>\n",
              "    </tr>\n",
              "    <tr>\n",
              "      <th>72867</th>\n",
              "      <td>2019-01-22 13:42:08</td>\n",
              "      <td>24.283333</td>\n",
              "    </tr>\n",
              "  </tbody>\n",
              "</table>\n",
              "<p>294 rows × 2 columns</p>\n",
              "</div>"
            ],
            "text/plain": [
              "               time_start         min\n",
              "0     2019-08-24 14:23:56  270.850000\n",
              "1     2018-06-19 08:56:22  199.066667\n",
              "2     2018-08-29 14:00:32   37.316667\n",
              "3     2019-12-10 16:01:26   33.933333\n",
              "1110  2018-08-07 20:36:49   72.900000\n",
              "...                   ...         ...\n",
              "72561 2019-12-25 11:38:35  175.283333\n",
              "72562 2019-12-20 11:04:25  409.916667\n",
              "72563 2019-12-10 16:26:18   84.616667\n",
              "72866 2019-01-20 17:59:36  155.833333\n",
              "72867 2019-01-22 13:42:08   24.283333\n",
              "\n",
              "[294 rows x 2 columns]"
            ]
          },
          "metadata": {
            "tags": []
          },
          "execution_count": 204
        }
      ]
    },
    {
      "cell_type": "code",
      "metadata": {
        "id": "vtgj9wh3oFvR",
        "colab_type": "code",
        "colab": {}
      },
      "source": [
        "def code_mean(data, cat_feature, real_feature):\n",
        "    return dict(data.groupby(cat_feature)[real_feature].mean())"
      ],
      "execution_count": 0,
      "outputs": []
    },
    {
      "cell_type": "code",
      "metadata": {
        "id": "lFkg_zG2mtbB",
        "colab_type": "code",
        "colab": {
          "base_uri": "https://localhost:8080/",
          "height": 235
        },
        "outputId": "3b0fe8b3-9a22-4823-b99a-3ced7187f138"
      },
      "source": [
        "data_for_time_series.index = data_for_time_series['time_start']\n",
        "data_for_time_series[\"year\"] = data_for_time_series.index.year\n",
        "data_for_time_series[\"month\"] = data_for_time_series.index.month\n",
        "data_for_time_series[\"weekday\"] = data_for_time_series.index.weekday\n",
        "data_for_time_series[\"hour\"] = data_for_time_series.index.hour\n",
        "data_for_time_series[\"minute\"] = data_for_time_series.index.minute\n",
        "#data_for_time_series['is_weekend'] = data_for_time_series.weekday.isin([5,6])*1\n",
        "data_for_time_series.drop(labels=['time_start'], inplace=True, axis=1)\n",
        "data_for_time_series.head()"
      ],
      "execution_count": 205,
      "outputs": [
        {
          "output_type": "execute_result",
          "data": {
            "text/html": [
              "<div>\n",
              "<style scoped>\n",
              "    .dataframe tbody tr th:only-of-type {\n",
              "        vertical-align: middle;\n",
              "    }\n",
              "\n",
              "    .dataframe tbody tr th {\n",
              "        vertical-align: top;\n",
              "    }\n",
              "\n",
              "    .dataframe thead th {\n",
              "        text-align: right;\n",
              "    }\n",
              "</style>\n",
              "<table border=\"1\" class=\"dataframe\">\n",
              "  <thead>\n",
              "    <tr style=\"text-align: right;\">\n",
              "      <th></th>\n",
              "      <th>min</th>\n",
              "      <th>year</th>\n",
              "      <th>month</th>\n",
              "      <th>weekday</th>\n",
              "      <th>hour</th>\n",
              "      <th>minute</th>\n",
              "    </tr>\n",
              "    <tr>\n",
              "      <th>time_start</th>\n",
              "      <th></th>\n",
              "      <th></th>\n",
              "      <th></th>\n",
              "      <th></th>\n",
              "      <th></th>\n",
              "      <th></th>\n",
              "    </tr>\n",
              "  </thead>\n",
              "  <tbody>\n",
              "    <tr>\n",
              "      <th>2019-08-24 14:23:56</th>\n",
              "      <td>270.850000</td>\n",
              "      <td>2019</td>\n",
              "      <td>8</td>\n",
              "      <td>5</td>\n",
              "      <td>14</td>\n",
              "      <td>23</td>\n",
              "    </tr>\n",
              "    <tr>\n",
              "      <th>2018-06-19 08:56:22</th>\n",
              "      <td>199.066667</td>\n",
              "      <td>2018</td>\n",
              "      <td>6</td>\n",
              "      <td>1</td>\n",
              "      <td>8</td>\n",
              "      <td>56</td>\n",
              "    </tr>\n",
              "    <tr>\n",
              "      <th>2018-08-29 14:00:32</th>\n",
              "      <td>37.316667</td>\n",
              "      <td>2018</td>\n",
              "      <td>8</td>\n",
              "      <td>2</td>\n",
              "      <td>14</td>\n",
              "      <td>0</td>\n",
              "    </tr>\n",
              "    <tr>\n",
              "      <th>2019-12-10 16:01:26</th>\n",
              "      <td>33.933333</td>\n",
              "      <td>2019</td>\n",
              "      <td>12</td>\n",
              "      <td>1</td>\n",
              "      <td>16</td>\n",
              "      <td>1</td>\n",
              "    </tr>\n",
              "    <tr>\n",
              "      <th>2018-08-07 20:36:49</th>\n",
              "      <td>72.900000</td>\n",
              "      <td>2018</td>\n",
              "      <td>8</td>\n",
              "      <td>1</td>\n",
              "      <td>20</td>\n",
              "      <td>36</td>\n",
              "    </tr>\n",
              "  </tbody>\n",
              "</table>\n",
              "</div>"
            ],
            "text/plain": [
              "                            min  year  month  weekday  hour  minute\n",
              "time_start                                                         \n",
              "2019-08-24 14:23:56  270.850000  2019      8        5    14      23\n",
              "2018-06-19 08:56:22  199.066667  2018      6        1     8      56\n",
              "2018-08-29 14:00:32   37.316667  2018      8        2    14       0\n",
              "2019-12-10 16:01:26   33.933333  2019     12        1    16       1\n",
              "2018-08-07 20:36:49   72.900000  2018      8        1    20      36"
            ]
          },
          "metadata": {
            "tags": []
          },
          "execution_count": 205
        }
      ]
    },
    {
      "cell_type": "code",
      "metadata": {
        "id": "49Kd2Z9xdWb9",
        "colab_type": "code",
        "colab": {
          "base_uri": "https://localhost:8080/",
          "height": 136
        },
        "outputId": "d1d0bac1-0150-4960-82a4-3303faf157d0"
      },
      "source": [
        "code_mean(data_for_time_series, 'weekday', 'min')"
      ],
      "execution_count": 190,
      "outputs": [
        {
          "output_type": "execute_result",
          "data": {
            "text/plain": [
              "{0: 215.42863247863244,\n",
              " 1: 139.52840909090912,\n",
              " 2: 172.64549549549548,\n",
              " 3: 157.1650326797386,\n",
              " 4: 186.56399999999994,\n",
              " 5: 228.80040650406505,\n",
              " 6: 206.1229166666666}"
            ]
          },
          "metadata": {
            "tags": []
          },
          "execution_count": 190
        }
      ]
    },
    {
      "cell_type": "code",
      "metadata": {
        "id": "5KIuT5KzcH77",
        "colab_type": "code",
        "colab": {}
      },
      "source": [
        "def prepareData(data, lag_start, lag_end, test_size):\n",
        "\n",
        "    data = pd.DataFrame(data.copy())\n",
        "\n",
        "    test_index = int(len(data)*(1-test_size))\n",
        "\n",
        "    for i in range(lag_start, lag_end):\n",
        "        data[\"lag_{}\".format(i)] = data['min'].shift(i)\n",
        "    \n",
        "    #data['year_average'] = list(map(code_mean(data[:test_index], 'year', 'min').get, data.year))\n",
        "    data['month_average'] = list(map(code_mean(data[:test_index], 'month', 'min').get, data.month))\n",
        "    data['weekday_average'] = list(map(code_mean(data[:test_index], 'weekday', 'min').get, data.weekday))\n",
        "    data[\"hour_average\"] = list(map(code_mean(data[:test_index], 'hour', 'min').get, data.hour))\n",
        "    #data[\"minute_average\"] = list(map(code_mean(data[:test_index], 'minute', 'min').get, data.minute))\n",
        "\n",
        "    data.drop(['year', 'month', 'weekday', 'hour', 'minute'], axis=1, inplace=True)\n",
        "    data = data.dropna()\n",
        "    data = data.reset_index(drop=True)\n",
        "\n",
        "    X_train = data.loc[:test_index].drop(['min'], axis=1)\n",
        "    y_train = data.loc[:test_index]['min']\n",
        "    X_test = data.loc[test_index:].drop(['min'], axis=1)\n",
        "    y_test = data.loc[test_index:]['min']\n",
        "\n",
        "    return X_train, X_test, y_train, y_test"
      ],
      "execution_count": 0,
      "outputs": []
    },
    {
      "cell_type": "code",
      "metadata": {
        "id": "ZA1eaPry0vjz",
        "colab_type": "code",
        "colab": {}
      },
      "source": [
        "from sklearn.linear_model import ARDRegression"
      ],
      "execution_count": 0,
      "outputs": []
    },
    {
      "cell_type": "code",
      "metadata": {
        "id": "7BFfAmpKOKmQ",
        "colab_type": "code",
        "colab": {
          "base_uri": "https://localhost:8080/",
          "height": 450
        },
        "outputId": "29cbb1d4-a74f-455e-e81b-e798c26b5fe2"
      },
      "source": [
        "data_for_time_series"
      ],
      "execution_count": 319,
      "outputs": [
        {
          "output_type": "execute_result",
          "data": {
            "text/html": [
              "<div>\n",
              "<style scoped>\n",
              "    .dataframe tbody tr th:only-of-type {\n",
              "        vertical-align: middle;\n",
              "    }\n",
              "\n",
              "    .dataframe tbody tr th {\n",
              "        vertical-align: top;\n",
              "    }\n",
              "\n",
              "    .dataframe thead th {\n",
              "        text-align: right;\n",
              "    }\n",
              "</style>\n",
              "<table border=\"1\" class=\"dataframe\">\n",
              "  <thead>\n",
              "    <tr style=\"text-align: right;\">\n",
              "      <th></th>\n",
              "      <th>min</th>\n",
              "      <th>year</th>\n",
              "      <th>month</th>\n",
              "      <th>weekday</th>\n",
              "      <th>hour</th>\n",
              "      <th>minute</th>\n",
              "    </tr>\n",
              "    <tr>\n",
              "      <th>time_start</th>\n",
              "      <th></th>\n",
              "      <th></th>\n",
              "      <th></th>\n",
              "      <th></th>\n",
              "      <th></th>\n",
              "      <th></th>\n",
              "    </tr>\n",
              "  </thead>\n",
              "  <tbody>\n",
              "    <tr>\n",
              "      <th>2019-08-24 14:23:56</th>\n",
              "      <td>270.850000</td>\n",
              "      <td>2019</td>\n",
              "      <td>8</td>\n",
              "      <td>5</td>\n",
              "      <td>14</td>\n",
              "      <td>23</td>\n",
              "    </tr>\n",
              "    <tr>\n",
              "      <th>2018-06-19 08:56:22</th>\n",
              "      <td>199.066667</td>\n",
              "      <td>2018</td>\n",
              "      <td>6</td>\n",
              "      <td>1</td>\n",
              "      <td>8</td>\n",
              "      <td>56</td>\n",
              "    </tr>\n",
              "    <tr>\n",
              "      <th>2018-08-29 14:00:32</th>\n",
              "      <td>37.316667</td>\n",
              "      <td>2018</td>\n",
              "      <td>8</td>\n",
              "      <td>2</td>\n",
              "      <td>14</td>\n",
              "      <td>0</td>\n",
              "    </tr>\n",
              "    <tr>\n",
              "      <th>2019-12-10 16:01:26</th>\n",
              "      <td>33.933333</td>\n",
              "      <td>2019</td>\n",
              "      <td>12</td>\n",
              "      <td>1</td>\n",
              "      <td>16</td>\n",
              "      <td>1</td>\n",
              "    </tr>\n",
              "    <tr>\n",
              "      <th>2018-08-07 20:36:49</th>\n",
              "      <td>72.900000</td>\n",
              "      <td>2018</td>\n",
              "      <td>8</td>\n",
              "      <td>1</td>\n",
              "      <td>20</td>\n",
              "      <td>36</td>\n",
              "    </tr>\n",
              "    <tr>\n",
              "      <th>...</th>\n",
              "      <td>...</td>\n",
              "      <td>...</td>\n",
              "      <td>...</td>\n",
              "      <td>...</td>\n",
              "      <td>...</td>\n",
              "      <td>...</td>\n",
              "    </tr>\n",
              "    <tr>\n",
              "      <th>2019-12-25 11:38:35</th>\n",
              "      <td>175.283333</td>\n",
              "      <td>2019</td>\n",
              "      <td>12</td>\n",
              "      <td>2</td>\n",
              "      <td>11</td>\n",
              "      <td>38</td>\n",
              "    </tr>\n",
              "    <tr>\n",
              "      <th>2019-12-20 11:04:25</th>\n",
              "      <td>409.916667</td>\n",
              "      <td>2019</td>\n",
              "      <td>12</td>\n",
              "      <td>4</td>\n",
              "      <td>11</td>\n",
              "      <td>4</td>\n",
              "    </tr>\n",
              "    <tr>\n",
              "      <th>2019-12-10 16:26:18</th>\n",
              "      <td>84.616667</td>\n",
              "      <td>2019</td>\n",
              "      <td>12</td>\n",
              "      <td>1</td>\n",
              "      <td>16</td>\n",
              "      <td>26</td>\n",
              "    </tr>\n",
              "    <tr>\n",
              "      <th>2019-01-20 17:59:36</th>\n",
              "      <td>155.833333</td>\n",
              "      <td>2019</td>\n",
              "      <td>1</td>\n",
              "      <td>6</td>\n",
              "      <td>17</td>\n",
              "      <td>59</td>\n",
              "    </tr>\n",
              "    <tr>\n",
              "      <th>2019-01-22 13:42:08</th>\n",
              "      <td>24.283333</td>\n",
              "      <td>2019</td>\n",
              "      <td>1</td>\n",
              "      <td>1</td>\n",
              "      <td>13</td>\n",
              "      <td>42</td>\n",
              "    </tr>\n",
              "  </tbody>\n",
              "</table>\n",
              "<p>294 rows × 6 columns</p>\n",
              "</div>"
            ],
            "text/plain": [
              "                            min  year  month  weekday  hour  minute\n",
              "time_start                                                         \n",
              "2019-08-24 14:23:56  270.850000  2019      8        5    14      23\n",
              "2018-06-19 08:56:22  199.066667  2018      6        1     8      56\n",
              "2018-08-29 14:00:32   37.316667  2018      8        2    14       0\n",
              "2019-12-10 16:01:26   33.933333  2019     12        1    16       1\n",
              "2018-08-07 20:36:49   72.900000  2018      8        1    20      36\n",
              "...                         ...   ...    ...      ...   ...     ...\n",
              "2019-12-25 11:38:35  175.283333  2019     12        2    11      38\n",
              "2019-12-20 11:04:25  409.916667  2019     12        4    11       4\n",
              "2019-12-10 16:26:18   84.616667  2019     12        1    16      26\n",
              "2019-01-20 17:59:36  155.833333  2019      1        6    17      59\n",
              "2019-01-22 13:42:08   24.283333  2019      1        1    13      42\n",
              "\n",
              "[294 rows x 6 columns]"
            ]
          },
          "metadata": {
            "tags": []
          },
          "execution_count": 319
        }
      ]
    },
    {
      "cell_type": "code",
      "metadata": {
        "id": "b5Htf2nDMvgc",
        "colab_type": "code",
        "colab": {
          "base_uri": "https://localhost:8080/",
          "height": 439
        },
        "outputId": "3c96d7af-076c-4a66-a5eb-44c2c20cc9c0"
      },
      "source": [
        "X_train"
      ],
      "execution_count": 325,
      "outputs": [
        {
          "output_type": "execute_result",
          "data": {
            "text/html": [
              "<div>\n",
              "<style scoped>\n",
              "    .dataframe tbody tr th:only-of-type {\n",
              "        vertical-align: middle;\n",
              "    }\n",
              "\n",
              "    .dataframe tbody tr th {\n",
              "        vertical-align: top;\n",
              "    }\n",
              "\n",
              "    .dataframe thead th {\n",
              "        text-align: right;\n",
              "    }\n",
              "</style>\n",
              "<table border=\"1\" class=\"dataframe\">\n",
              "  <thead>\n",
              "    <tr style=\"text-align: right;\">\n",
              "      <th></th>\n",
              "      <th>lag_12</th>\n",
              "      <th>lag_13</th>\n",
              "      <th>lag_14</th>\n",
              "      <th>lag_15</th>\n",
              "      <th>lag_16</th>\n",
              "      <th>lag_17</th>\n",
              "      <th>lag_18</th>\n",
              "      <th>lag_19</th>\n",
              "      <th>lag_20</th>\n",
              "      <th>lag_21</th>\n",
              "      <th>lag_22</th>\n",
              "      <th>lag_23</th>\n",
              "      <th>lag_24</th>\n",
              "      <th>lag_25</th>\n",
              "      <th>lag_26</th>\n",
              "      <th>lag_27</th>\n",
              "      <th>lag_28</th>\n",
              "      <th>lag_29</th>\n",
              "      <th>lag_30</th>\n",
              "      <th>lag_31</th>\n",
              "      <th>lag_32</th>\n",
              "      <th>lag_33</th>\n",
              "      <th>lag_34</th>\n",
              "      <th>lag_35</th>\n",
              "      <th>lag_36</th>\n",
              "      <th>lag_37</th>\n",
              "      <th>lag_38</th>\n",
              "      <th>lag_39</th>\n",
              "      <th>lag_40</th>\n",
              "      <th>lag_41</th>\n",
              "      <th>lag_42</th>\n",
              "      <th>lag_43</th>\n",
              "      <th>lag_44</th>\n",
              "      <th>lag_45</th>\n",
              "      <th>lag_46</th>\n",
              "      <th>lag_47</th>\n",
              "      <th>month_average</th>\n",
              "      <th>weekday_average</th>\n",
              "      <th>hour_average</th>\n",
              "    </tr>\n",
              "  </thead>\n",
              "  <tbody>\n",
              "    <tr>\n",
              "      <th>0</th>\n",
              "      <td>36.800000</td>\n",
              "      <td>111.500000</td>\n",
              "      <td>69.983333</td>\n",
              "      <td>235.100000</td>\n",
              "      <td>111.300000</td>\n",
              "      <td>30.400000</td>\n",
              "      <td>110.283333</td>\n",
              "      <td>379.566667</td>\n",
              "      <td>58.483333</td>\n",
              "      <td>359.516667</td>\n",
              "      <td>99.133333</td>\n",
              "      <td>378.183333</td>\n",
              "      <td>84.950000</td>\n",
              "      <td>229.400000</td>\n",
              "      <td>34.816667</td>\n",
              "      <td>127.066667</td>\n",
              "      <td>170.066667</td>\n",
              "      <td>28.833333</td>\n",
              "      <td>48.350000</td>\n",
              "      <td>68.416667</td>\n",
              "      <td>135.666667</td>\n",
              "      <td>45.133333</td>\n",
              "      <td>206.583333</td>\n",
              "      <td>133.516667</td>\n",
              "      <td>92.083333</td>\n",
              "      <td>413.016667</td>\n",
              "      <td>58.733333</td>\n",
              "      <td>110.333333</td>\n",
              "      <td>80.216667</td>\n",
              "      <td>287.150000</td>\n",
              "      <td>539.700000</td>\n",
              "      <td>72.900000</td>\n",
              "      <td>33.933333</td>\n",
              "      <td>37.316667</td>\n",
              "      <td>199.066667</td>\n",
              "      <td>270.850000</td>\n",
              "      <td>204.502151</td>\n",
              "      <td>236.560476</td>\n",
              "      <td>218.276667</td>\n",
              "    </tr>\n",
              "    <tr>\n",
              "      <th>1</th>\n",
              "      <td>75.666667</td>\n",
              "      <td>36.800000</td>\n",
              "      <td>111.500000</td>\n",
              "      <td>69.983333</td>\n",
              "      <td>235.100000</td>\n",
              "      <td>111.300000</td>\n",
              "      <td>30.400000</td>\n",
              "      <td>110.283333</td>\n",
              "      <td>379.566667</td>\n",
              "      <td>58.483333</td>\n",
              "      <td>359.516667</td>\n",
              "      <td>99.133333</td>\n",
              "      <td>378.183333</td>\n",
              "      <td>84.950000</td>\n",
              "      <td>229.400000</td>\n",
              "      <td>34.816667</td>\n",
              "      <td>127.066667</td>\n",
              "      <td>170.066667</td>\n",
              "      <td>28.833333</td>\n",
              "      <td>48.350000</td>\n",
              "      <td>68.416667</td>\n",
              "      <td>135.666667</td>\n",
              "      <td>45.133333</td>\n",
              "      <td>206.583333</td>\n",
              "      <td>133.516667</td>\n",
              "      <td>92.083333</td>\n",
              "      <td>413.016667</td>\n",
              "      <td>58.733333</td>\n",
              "      <td>110.333333</td>\n",
              "      <td>80.216667</td>\n",
              "      <td>287.150000</td>\n",
              "      <td>539.700000</td>\n",
              "      <td>72.900000</td>\n",
              "      <td>33.933333</td>\n",
              "      <td>37.316667</td>\n",
              "      <td>199.066667</td>\n",
              "      <td>149.577083</td>\n",
              "      <td>166.791379</td>\n",
              "      <td>218.276667</td>\n",
              "    </tr>\n",
              "    <tr>\n",
              "      <th>2</th>\n",
              "      <td>63.816667</td>\n",
              "      <td>75.666667</td>\n",
              "      <td>36.800000</td>\n",
              "      <td>111.500000</td>\n",
              "      <td>69.983333</td>\n",
              "      <td>235.100000</td>\n",
              "      <td>111.300000</td>\n",
              "      <td>30.400000</td>\n",
              "      <td>110.283333</td>\n",
              "      <td>379.566667</td>\n",
              "      <td>58.483333</td>\n",
              "      <td>359.516667</td>\n",
              "      <td>99.133333</td>\n",
              "      <td>378.183333</td>\n",
              "      <td>84.950000</td>\n",
              "      <td>229.400000</td>\n",
              "      <td>34.816667</td>\n",
              "      <td>127.066667</td>\n",
              "      <td>170.066667</td>\n",
              "      <td>28.833333</td>\n",
              "      <td>48.350000</td>\n",
              "      <td>68.416667</td>\n",
              "      <td>135.666667</td>\n",
              "      <td>45.133333</td>\n",
              "      <td>206.583333</td>\n",
              "      <td>133.516667</td>\n",
              "      <td>92.083333</td>\n",
              "      <td>413.016667</td>\n",
              "      <td>58.733333</td>\n",
              "      <td>110.333333</td>\n",
              "      <td>80.216667</td>\n",
              "      <td>287.150000</td>\n",
              "      <td>539.700000</td>\n",
              "      <td>72.900000</td>\n",
              "      <td>33.933333</td>\n",
              "      <td>37.316667</td>\n",
              "      <td>149.577083</td>\n",
              "      <td>154.475000</td>\n",
              "      <td>133.077778</td>\n",
              "    </tr>\n",
              "    <tr>\n",
              "      <th>3</th>\n",
              "      <td>272.283333</td>\n",
              "      <td>63.816667</td>\n",
              "      <td>75.666667</td>\n",
              "      <td>36.800000</td>\n",
              "      <td>111.500000</td>\n",
              "      <td>69.983333</td>\n",
              "      <td>235.100000</td>\n",
              "      <td>111.300000</td>\n",
              "      <td>30.400000</td>\n",
              "      <td>110.283333</td>\n",
              "      <td>379.566667</td>\n",
              "      <td>58.483333</td>\n",
              "      <td>359.516667</td>\n",
              "      <td>99.133333</td>\n",
              "      <td>378.183333</td>\n",
              "      <td>84.950000</td>\n",
              "      <td>229.400000</td>\n",
              "      <td>34.816667</td>\n",
              "      <td>127.066667</td>\n",
              "      <td>170.066667</td>\n",
              "      <td>28.833333</td>\n",
              "      <td>48.350000</td>\n",
              "      <td>68.416667</td>\n",
              "      <td>135.666667</td>\n",
              "      <td>45.133333</td>\n",
              "      <td>206.583333</td>\n",
              "      <td>133.516667</td>\n",
              "      <td>92.083333</td>\n",
              "      <td>413.016667</td>\n",
              "      <td>58.733333</td>\n",
              "      <td>110.333333</td>\n",
              "      <td>80.216667</td>\n",
              "      <td>287.150000</td>\n",
              "      <td>539.700000</td>\n",
              "      <td>72.900000</td>\n",
              "      <td>33.933333</td>\n",
              "      <td>153.615741</td>\n",
              "      <td>154.475000</td>\n",
              "      <td>170.421605</td>\n",
              "    </tr>\n",
              "    <tr>\n",
              "      <th>4</th>\n",
              "      <td>76.266667</td>\n",
              "      <td>272.283333</td>\n",
              "      <td>63.816667</td>\n",
              "      <td>75.666667</td>\n",
              "      <td>36.800000</td>\n",
              "      <td>111.500000</td>\n",
              "      <td>69.983333</td>\n",
              "      <td>235.100000</td>\n",
              "      <td>111.300000</td>\n",
              "      <td>30.400000</td>\n",
              "      <td>110.283333</td>\n",
              "      <td>379.566667</td>\n",
              "      <td>58.483333</td>\n",
              "      <td>359.516667</td>\n",
              "      <td>99.133333</td>\n",
              "      <td>378.183333</td>\n",
              "      <td>84.950000</td>\n",
              "      <td>229.400000</td>\n",
              "      <td>34.816667</td>\n",
              "      <td>127.066667</td>\n",
              "      <td>170.066667</td>\n",
              "      <td>28.833333</td>\n",
              "      <td>48.350000</td>\n",
              "      <td>68.416667</td>\n",
              "      <td>135.666667</td>\n",
              "      <td>45.133333</td>\n",
              "      <td>206.583333</td>\n",
              "      <td>133.516667</td>\n",
              "      <td>92.083333</td>\n",
              "      <td>413.016667</td>\n",
              "      <td>58.733333</td>\n",
              "      <td>110.333333</td>\n",
              "      <td>80.216667</td>\n",
              "      <td>287.150000</td>\n",
              "      <td>539.700000</td>\n",
              "      <td>72.900000</td>\n",
              "      <td>204.502151</td>\n",
              "      <td>180.783740</td>\n",
              "      <td>193.135417</td>\n",
              "    </tr>\n",
              "    <tr>\n",
              "      <th>...</th>\n",
              "      <td>...</td>\n",
              "      <td>...</td>\n",
              "      <td>...</td>\n",
              "      <td>...</td>\n",
              "      <td>...</td>\n",
              "      <td>...</td>\n",
              "      <td>...</td>\n",
              "      <td>...</td>\n",
              "      <td>...</td>\n",
              "      <td>...</td>\n",
              "      <td>...</td>\n",
              "      <td>...</td>\n",
              "      <td>...</td>\n",
              "      <td>...</td>\n",
              "      <td>...</td>\n",
              "      <td>...</td>\n",
              "      <td>...</td>\n",
              "      <td>...</td>\n",
              "      <td>...</td>\n",
              "      <td>...</td>\n",
              "      <td>...</td>\n",
              "      <td>...</td>\n",
              "      <td>...</td>\n",
              "      <td>...</td>\n",
              "      <td>...</td>\n",
              "      <td>...</td>\n",
              "      <td>...</td>\n",
              "      <td>...</td>\n",
              "      <td>...</td>\n",
              "      <td>...</td>\n",
              "      <td>...</td>\n",
              "      <td>...</td>\n",
              "      <td>...</td>\n",
              "      <td>...</td>\n",
              "      <td>...</td>\n",
              "      <td>...</td>\n",
              "      <td>...</td>\n",
              "      <td>...</td>\n",
              "      <td>...</td>\n",
              "    </tr>\n",
              "    <tr>\n",
              "      <th>231</th>\n",
              "      <td>80.433333</td>\n",
              "      <td>356.366667</td>\n",
              "      <td>63.183333</td>\n",
              "      <td>179.566667</td>\n",
              "      <td>309.866667</td>\n",
              "      <td>189.783333</td>\n",
              "      <td>157.866667</td>\n",
              "      <td>46.866667</td>\n",
              "      <td>48.700000</td>\n",
              "      <td>279.233333</td>\n",
              "      <td>472.383333</td>\n",
              "      <td>31.516667</td>\n",
              "      <td>44.833333</td>\n",
              "      <td>79.383333</td>\n",
              "      <td>77.450000</td>\n",
              "      <td>334.950000</td>\n",
              "      <td>81.750000</td>\n",
              "      <td>49.933333</td>\n",
              "      <td>46.083333</td>\n",
              "      <td>104.883333</td>\n",
              "      <td>32.450000</td>\n",
              "      <td>32.300000</td>\n",
              "      <td>222.650000</td>\n",
              "      <td>229.616667</td>\n",
              "      <td>361.083333</td>\n",
              "      <td>56.800000</td>\n",
              "      <td>47.016667</td>\n",
              "      <td>62.983333</td>\n",
              "      <td>92.966667</td>\n",
              "      <td>105.483333</td>\n",
              "      <td>288.983333</td>\n",
              "      <td>129.616667</td>\n",
              "      <td>146.500000</td>\n",
              "      <td>37.750000</td>\n",
              "      <td>446.733333</td>\n",
              "      <td>440.833333</td>\n",
              "      <td>204.502151</td>\n",
              "      <td>180.783740</td>\n",
              "      <td>170.421605</td>\n",
              "    </tr>\n",
              "    <tr>\n",
              "      <th>232</th>\n",
              "      <td>99.550000</td>\n",
              "      <td>80.433333</td>\n",
              "      <td>356.366667</td>\n",
              "      <td>63.183333</td>\n",
              "      <td>179.566667</td>\n",
              "      <td>309.866667</td>\n",
              "      <td>189.783333</td>\n",
              "      <td>157.866667</td>\n",
              "      <td>46.866667</td>\n",
              "      <td>48.700000</td>\n",
              "      <td>279.233333</td>\n",
              "      <td>472.383333</td>\n",
              "      <td>31.516667</td>\n",
              "      <td>44.833333</td>\n",
              "      <td>79.383333</td>\n",
              "      <td>77.450000</td>\n",
              "      <td>334.950000</td>\n",
              "      <td>81.750000</td>\n",
              "      <td>49.933333</td>\n",
              "      <td>46.083333</td>\n",
              "      <td>104.883333</td>\n",
              "      <td>32.450000</td>\n",
              "      <td>32.300000</td>\n",
              "      <td>222.650000</td>\n",
              "      <td>229.616667</td>\n",
              "      <td>361.083333</td>\n",
              "      <td>56.800000</td>\n",
              "      <td>47.016667</td>\n",
              "      <td>62.983333</td>\n",
              "      <td>92.966667</td>\n",
              "      <td>105.483333</td>\n",
              "      <td>288.983333</td>\n",
              "      <td>129.616667</td>\n",
              "      <td>146.500000</td>\n",
              "      <td>37.750000</td>\n",
              "      <td>446.733333</td>\n",
              "      <td>204.502151</td>\n",
              "      <td>198.303333</td>\n",
              "      <td>49.441667</td>\n",
              "    </tr>\n",
              "    <tr>\n",
              "      <th>233</th>\n",
              "      <td>82.133333</td>\n",
              "      <td>99.550000</td>\n",
              "      <td>80.433333</td>\n",
              "      <td>356.366667</td>\n",
              "      <td>63.183333</td>\n",
              "      <td>179.566667</td>\n",
              "      <td>309.866667</td>\n",
              "      <td>189.783333</td>\n",
              "      <td>157.866667</td>\n",
              "      <td>46.866667</td>\n",
              "      <td>48.700000</td>\n",
              "      <td>279.233333</td>\n",
              "      <td>472.383333</td>\n",
              "      <td>31.516667</td>\n",
              "      <td>44.833333</td>\n",
              "      <td>79.383333</td>\n",
              "      <td>77.450000</td>\n",
              "      <td>334.950000</td>\n",
              "      <td>81.750000</td>\n",
              "      <td>49.933333</td>\n",
              "      <td>46.083333</td>\n",
              "      <td>104.883333</td>\n",
              "      <td>32.450000</td>\n",
              "      <td>32.300000</td>\n",
              "      <td>222.650000</td>\n",
              "      <td>229.616667</td>\n",
              "      <td>361.083333</td>\n",
              "      <td>56.800000</td>\n",
              "      <td>47.016667</td>\n",
              "      <td>62.983333</td>\n",
              "      <td>92.966667</td>\n",
              "      <td>105.483333</td>\n",
              "      <td>288.983333</td>\n",
              "      <td>129.616667</td>\n",
              "      <td>146.500000</td>\n",
              "      <td>37.750000</td>\n",
              "      <td>121.455303</td>\n",
              "      <td>166.791379</td>\n",
              "      <td>140.891667</td>\n",
              "    </tr>\n",
              "    <tr>\n",
              "      <th>234</th>\n",
              "      <td>41.233333</td>\n",
              "      <td>82.133333</td>\n",
              "      <td>99.550000</td>\n",
              "      <td>80.433333</td>\n",
              "      <td>356.366667</td>\n",
              "      <td>63.183333</td>\n",
              "      <td>179.566667</td>\n",
              "      <td>309.866667</td>\n",
              "      <td>189.783333</td>\n",
              "      <td>157.866667</td>\n",
              "      <td>46.866667</td>\n",
              "      <td>48.700000</td>\n",
              "      <td>279.233333</td>\n",
              "      <td>472.383333</td>\n",
              "      <td>31.516667</td>\n",
              "      <td>44.833333</td>\n",
              "      <td>79.383333</td>\n",
              "      <td>77.450000</td>\n",
              "      <td>334.950000</td>\n",
              "      <td>81.750000</td>\n",
              "      <td>49.933333</td>\n",
              "      <td>46.083333</td>\n",
              "      <td>104.883333</td>\n",
              "      <td>32.450000</td>\n",
              "      <td>32.300000</td>\n",
              "      <td>222.650000</td>\n",
              "      <td>229.616667</td>\n",
              "      <td>361.083333</td>\n",
              "      <td>56.800000</td>\n",
              "      <td>47.016667</td>\n",
              "      <td>62.983333</td>\n",
              "      <td>92.966667</td>\n",
              "      <td>105.483333</td>\n",
              "      <td>288.983333</td>\n",
              "      <td>129.616667</td>\n",
              "      <td>146.500000</td>\n",
              "      <td>140.218182</td>\n",
              "      <td>170.360256</td>\n",
              "      <td>133.077778</td>\n",
              "    </tr>\n",
              "    <tr>\n",
              "      <th>235</th>\n",
              "      <td>51.600000</td>\n",
              "      <td>41.233333</td>\n",
              "      <td>82.133333</td>\n",
              "      <td>99.550000</td>\n",
              "      <td>80.433333</td>\n",
              "      <td>356.366667</td>\n",
              "      <td>63.183333</td>\n",
              "      <td>179.566667</td>\n",
              "      <td>309.866667</td>\n",
              "      <td>189.783333</td>\n",
              "      <td>157.866667</td>\n",
              "      <td>46.866667</td>\n",
              "      <td>48.700000</td>\n",
              "      <td>279.233333</td>\n",
              "      <td>472.383333</td>\n",
              "      <td>31.516667</td>\n",
              "      <td>44.833333</td>\n",
              "      <td>79.383333</td>\n",
              "      <td>77.450000</td>\n",
              "      <td>334.950000</td>\n",
              "      <td>81.750000</td>\n",
              "      <td>49.933333</td>\n",
              "      <td>46.083333</td>\n",
              "      <td>104.883333</td>\n",
              "      <td>32.450000</td>\n",
              "      <td>32.300000</td>\n",
              "      <td>222.650000</td>\n",
              "      <td>229.616667</td>\n",
              "      <td>361.083333</td>\n",
              "      <td>56.800000</td>\n",
              "      <td>47.016667</td>\n",
              "      <td>62.983333</td>\n",
              "      <td>92.966667</td>\n",
              "      <td>105.483333</td>\n",
              "      <td>288.983333</td>\n",
              "      <td>129.616667</td>\n",
              "      <td>140.218182</td>\n",
              "      <td>166.791379</td>\n",
              "      <td>462.533333</td>\n",
              "    </tr>\n",
              "  </tbody>\n",
              "</table>\n",
              "<p>236 rows × 39 columns</p>\n",
              "</div>"
            ],
            "text/plain": [
              "         lag_12      lag_13  ...  weekday_average  hour_average\n",
              "0     36.800000  111.500000  ...       236.560476    218.276667\n",
              "1     75.666667   36.800000  ...       166.791379    218.276667\n",
              "2     63.816667   75.666667  ...       154.475000    133.077778\n",
              "3    272.283333   63.816667  ...       154.475000    170.421605\n",
              "4     76.266667  272.283333  ...       180.783740    193.135417\n",
              "..          ...         ...  ...              ...           ...\n",
              "231   80.433333  356.366667  ...       180.783740    170.421605\n",
              "232   99.550000   80.433333  ...       198.303333     49.441667\n",
              "233   82.133333   99.550000  ...       166.791379    140.891667\n",
              "234   41.233333   82.133333  ...       170.360256    133.077778\n",
              "235   51.600000   41.233333  ...       166.791379    462.533333\n",
              "\n",
              "[236 rows x 39 columns]"
            ]
          },
          "metadata": {
            "tags": []
          },
          "execution_count": 325
        }
      ]
    },
    {
      "cell_type": "code",
      "metadata": {
        "id": "aVB09paZp8ZV",
        "colab_type": "code",
        "colab": {
          "base_uri": "https://localhost:8080/",
          "height": 459
        },
        "outputId": "b24faf6a-7cfb-4892-f646-2b70e756243d"
      },
      "source": [
        "X_train, X_test, y_train, y_test = prepareData(data_for_time_series, test_size=0.2, lag_start=12, lag_end=48)\n",
        "lr = ARDRegression()\n",
        "lr.fit(X_train, y_train)\n",
        "prediction = lr.predict(X_test)\n",
        "plt.figure(figsize=(15, 7))\n",
        "plt.plot(prediction, \"r\", label=\"prediction\")\n",
        "plt.plot(y_test.values, label=\"actual\")\n",
        "plt.legend(loc=\"best\")\n",
        "plt.title(\"Linear regression for one cluster\\n MAPE: {}\".format(1 - mean_absolute_error(prediction, y_test)/y_test.mean()))\n",
        "plt.grid(True);"
      ],
      "execution_count": 324,
      "outputs": [
        {
          "output_type": "display_data",
          "data": {
            "image/png": "[encoded data removed]",
            "text/plain": [
              "<Figure size 1080x504 with 1 Axes>"
            ]
          },
          "metadata": {
            "tags": []
          }
        }
      ]
    },
    {
      "cell_type": "code",
      "metadata": {
        "id": "VaFxTSipRwH3",
        "colab_type": "code",
        "colab": {}
      },
      "source": [
        ""
      ],
      "execution_count": 0,
      "outputs": []
    }
  ]
}