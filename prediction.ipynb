{
 "cells": [
  {
   "cell_type": "code",
   "execution_count": 1,
   "metadata": {
    "colab": {},
    "colab_type": "code",
    "id": "f46NwG5ERvKE"
   },
   "outputs": [],
   "source": [
    "import pandas as pd\n",
    "import numpy as np\n",
    "import matplotlib.pyplot as plt\n",
    "%matplotlib inline\n",
    "import seaborn as sns"
   ]
  },
  {
   "cell_type": "markdown",
   "metadata": {},
   "source": [
    "# Подготовка данных от Сергея"
   ]
  },
  {
   "cell_type": "code",
   "execution_count": 2,
   "metadata": {
    "colab": {},
    "colab_type": "code",
    "id": "mapDIx1CRvKT"
   },
   "outputs": [],
   "source": [
    "data = pd.read_csv('CL_megafon_Cup IT_2020_final_data.csv', sep=';')"
   ]
  },
  {
   "cell_type": "code",
   "execution_count": 3,
   "metadata": {
    "colab": {},
    "colab_type": "code",
    "id": "nn7jlxAvRvKh"
   },
   "outputs": [],
   "source": [
    "data['time_start'] = pd.to_datetime(data['time_start'])\n",
    "data['time_end'] = pd.to_datetime(data['time_end'])"
   ]
  },
  {
   "cell_type": "code",
   "execution_count": 4,
   "metadata": {
    "colab": {
     "base_uri": "https://localhost:8080/",
     "height": 419
    },
    "colab_type": "code",
    "id": "mySvThOARvKu",
    "outputId": "e7d07537-98ca-44b4-b9f1-54886c21b6c7"
   },
   "outputs": [],
   "source": [
    "data['duration'] = data['time_end'] - data['time_start']\n",
    "data['min']= data['duration'].dt.seconds/60"
   ]
  },
  {
   "cell_type": "code",
   "execution_count": 5,
   "metadata": {
    "colab": {},
    "colab_type": "code",
    "id": "wPguubYVRvkj"
   },
   "outputs": [],
   "source": [
    "data_target = data['min'].copy()"
   ]
  },
  {
   "cell_type": "code",
   "execution_count": 6,
   "metadata": {
    "colab": {},
    "colab_type": "code",
    "id": "Tg8hSYyPRvq2"
   },
   "outputs": [],
   "source": [
    "low, up = np.percentile(data['min'].values, [1 , 95]) \n",
    "\n",
    "bad_index = list(data[data['min'].values > up].index)"
   ]
  },
  {
   "cell_type": "code",
   "execution_count": 7,
   "metadata": {
    "colab": {
     "base_uri": "https://localhost:8080/",
     "height": 282
    },
    "colab_type": "code",
    "id": "dNT5zwDORvvt",
    "outputId": "c3db0f98-4800-4b91-ecd2-6b836338e2ff"
   },
   "outputs": [
    {
     "data": {
      "text/plain": [
       "<matplotlib.axes._subplots.AxesSubplot at 0x22d628f0518>"
      ]
     },
     "execution_count": 7,
     "metadata": {},
     "output_type": "execute_result"
    },
    {
     "data": {
      "image/png": "[encoded data removed]",
      "text/plain": [
       "<Figure size 432x288 with 1 Axes>"
      ]
     },
     "metadata": {
      "needs_background": "light"
     },
     "output_type": "display_data"
    }
   ],
   "source": [
    "data['min'].drop(index=bad_index).hist(bins=200)"
   ]
  },
  {
   "cell_type": "code",
   "execution_count": 8,
   "metadata": {
    "colab": {},
    "colab_type": "code",
    "id": "OSUE4q6xRvx2"
   },
   "outputs": [],
   "source": [
    "data.drop(index=bad_index, inplace=True)\n",
    "data.index = range(data.shape[0])"
   ]
  },
  {
   "cell_type": "markdown",
   "metadata": {
    "colab_type": "text",
    "id": "z27mun37Rv0n"
   },
   "source": [
    "## MeanShift"
   ]
  },
  {
   "cell_type": "code",
   "execution_count": 9,
   "metadata": {
    "colab": {},
    "colab_type": "code",
    "id": "QKAH5IflRv1A"
   },
   "outputs": [],
   "source": [
    "from sklearn.cluster import MeanShift"
   ]
  },
  {
   "cell_type": "code",
   "execution_count": 10,
   "metadata": {
    "colab": {},
    "colab_type": "code",
    "id": "FulkRLyTRv17"
   },
   "outputs": [],
   "source": [
    "new_data = data[['place_latitude', 'place_longitude']].copy()"
   ]
  },
  {
   "cell_type": "code",
   "execution_count": 11,
   "metadata": {
    "colab": {
     "base_uri": "https://localhost:8080/",
     "height": 51
    },
    "colab_type": "code",
    "id": "P1mfDpJyRv8w",
    "outputId": "50aeab11-ba00-431c-beaf-60e18c1fa1a8"
   },
   "outputs": [
    {
     "name": "stdout",
     "output_type": "stream",
     "text": [
      "Wall time: 7min 32s\n"
     ]
    }
   ],
   "source": [
    "%%time\n",
    "\n",
    "clustering = MeanShift(bandwidth = 0.1, n_jobs=-1).fit(new_data)"
   ]
  },
  {
   "cell_type": "code",
   "execution_count": 12,
   "metadata": {
    "colab": {
     "base_uri": "https://localhost:8080/",
     "height": 34
    },
    "colab_type": "code",
    "id": "DYP9-sCvRv88",
    "outputId": "d2e7c2c5-2bf9-4f30-e827-ef17940ca912"
   },
   "outputs": [
    {
     "data": {
      "text/plain": [
       "518"
      ]
     },
     "execution_count": 12,
     "metadata": {},
     "output_type": "execute_result"
    }
   ],
   "source": [
    "len(np.unique(clustering.predict(new_data)))"
   ]
  },
  {
   "cell_type": "code",
   "execution_count": 13,
   "metadata": {
    "colab": {},
    "colab_type": "code",
    "id": "n9FRJR5PRv9T"
   },
   "outputs": [],
   "source": [
    "new_data['class'] = clustering.predict(new_data)"
   ]
  },
  {
   "cell_type": "code",
   "execution_count": 14,
   "metadata": {
    "colab": {},
    "colab_type": "code",
    "id": "kN479AtiRwDH"
   },
   "outputs": [],
   "source": [
    "data['class'] = new_data['class']"
   ]
  },
  {
   "cell_type": "code",
   "execution_count": 24,
   "metadata": {},
   "outputs": [],
   "source": [
    "data = data.set_index('time_start')"
   ]
  },
  {
   "cell_type": "code",
   "execution_count": 26,
   "metadata": {},
   "outputs": [],
   "source": [
    "data = data.drop(columns=['time_end', 'place_latitude', 'place_longitude', 'duration'])"
   ]
  },
  {
   "cell_type": "code",
   "execution_count": 28,
   "metadata": {},
   "outputs": [],
   "source": [
    "data = data.sort_index()"
   ]
  },
  {
   "cell_type": "code",
   "execution_count": 31,
   "metadata": {},
   "outputs": [],
   "source": [
    "data = data.reset_index()"
   ]
  },
  {
   "cell_type": "markdown",
   "metadata": {},
   "source": [
    "# Подготовительные функции"
   ]
  },
  {
   "cell_type": "code",
   "execution_count": 17,
   "metadata": {},
   "outputs": [],
   "source": [
    "import tensorflow as tf"
   ]
  },
  {
   "cell_type": "code",
   "execution_count": 18,
   "metadata": {},
   "outputs": [],
   "source": [
    "def code_mean(data, cat_feature, real_feature):\n",
    "    return dict(data.groupby(cat_feature)[real_feature].mean())"
   ]
  },
  {
   "cell_type": "code",
   "execution_count": 20,
   "metadata": {},
   "outputs": [],
   "source": [
    "def make_datasets(series, batch_size=128, window_size=30):\n",
    "    shuffle_buffer_size = 1000\n",
    "    train_dataset = tf.data.Dataset.from_tensor_slices(series.copy())\n",
    "    train_dataset = train_dataset.window(window_size + 1, shift=1, drop_remainder=True)\n",
    "    train_dataset = train_dataset.flat_map(lambda window: window.batch(window_size + 1))\n",
    "    train_dataset = train_dataset.shuffle(shuffle_buffer_size).map(lambda window: (window[:-1], window[-1]))\n",
    "    train_dataset = train_dataset.batch(batch_size).prefetch(1)\n",
    "    return train_dataset"
   ]
  },
  {
   "cell_type": "markdown",
   "metadata": {},
   "source": [
    "# Модель"
   ]
  },
  {
   "cell_type": "code",
   "execution_count": 21,
   "metadata": {},
   "outputs": [],
   "source": [
    "from tensorflow.keras.layers import SimpleRNN, Lambda\n",
    "from tensorflow.keras.layers import Dense, Activation\n",
    "from tensorflow.keras.models import Sequential\n",
    "from tensorflow.keras.layers import Dense, Activation"
   ]
  },
  {
   "cell_type": "code",
   "execution_count": 118,
   "metadata": {},
   "outputs": [],
   "source": [
    "def train_model(x_train):\n",
    "    tf.keras.backend.clear_session()\n",
    "    \n",
    "    batch_size = min(128, len(x_train))\n",
    "    window_size = min(30, len(x_train) - 1)\n",
    "    \n",
    "    train_dataset = make_datasets(x_train, batch_size=batch_size, window_size=window_size)\n",
    "    #test_dataset = make_datasets(x_test, batch_size=128, window_size=30)\n",
    "\n",
    "    rnn = Sequential([Lambda(lambda x: tf.expand_dims(x, axis=-1), input_shape=[None]), \n",
    "                             SimpleRNN(32, return_sequences=True),\n",
    "                             SimpleRNN(16),\n",
    "                             Dense(8, activation='relu'),\n",
    "                             Dense(1), \n",
    "                             Lambda(lambda x : x * 500.0)])\n",
    "\n",
    "    optimizer = tf.keras.optimizers.Adam()\n",
    "    rnn.compile(loss=tf.keras.losses.MeanAbsolutePercentageError(),\n",
    "                  optimizer=optimizer)\n",
    "    return rnn, train_dataset, window_size"
   ]
  },
  {
   "cell_type": "markdown",
   "metadata": {},
   "source": [
    "# Цикл моделей"
   ]
  },
  {
   "cell_type": "code",
   "execution_count": 117,
   "metadata": {},
   "outputs": [],
   "source": [
    "def make_prediction(model, data_for_time_series, window_size):\n",
    "    \n",
    "    forecast = []\n",
    "    \n",
    "    for time in range(len(data_for_time_series) - window_size):\n",
    "        forecast.append(model.predict(data_for_time_series[time:time + window_size].T))\n",
    "\n",
    "\n",
    "    forecast = forecast[-window_size:]\n",
    "    results = np.array(forecast)[:, 0]\n",
    "    return list(results)"
   ]
  },
  {
   "cell_type": "code",
   "execution_count": 120,
   "metadata": {},
   "outputs": [
    {
     "name": "stdout",
     "output_type": "stream",
     "text": [
      "модель 0 обучена, mape 74.8482551574707\n",
      "модель 1 обучена, mape 70.47392371848777\n",
      "модель 2 обучена, mape 71.24636363983154\n",
      "модель 3 обучена, mape 96.4206371307373\n",
      "модель 4 обучена, mape 64.32308435440063\n",
      "модель 5 обучена, mape 232.71749361823586\n",
      "модель 6 обучена, mape 62.72028096516927\n",
      "модель 7 обучена, mape 53.69517364501953\n",
      "модель 8 обучена, mape 70.64096287318638\n",
      "модель 9 обучена, mape 61.95776700973511\n",
      "модель 10 обучена, mape 85.28191672431097\n",
      "модель 11 обучена, mape 83.39997794411399\n",
      "модель 12 обучена, mape 70.14576612200055\n",
      "модель 13 обучена, mape 51.13054504394531\n",
      "модель 14 обучена, mape 92.18637084960938\n",
      "модель 15 обучена, mape 67.86474772862026\n",
      "модель 16 обучена, mape 52.03093655904134\n",
      "модель 17 обучена, mape 61.49818674723307\n",
      "модель 18 обучена, mape 51.19209518432617\n",
      "модель 19 обучена, mape 81.17837142944336\n",
      "модель 20 обучена, mape 62.08509063720703\n",
      "модель 21 обучена, mape 72.31242243448894\n",
      "модель 22 обучена, mape 64.31987635294597\n",
      "модель 23 обучена, mape 59.531874338785805\n",
      "модель 24 обучена, mape 63.457645416259766\n",
      "модель 25 обучена, mape 60.71836471557617\n",
      "модель 26 обучена, mape 63.12315979003906\n",
      "модель 27 обучена, mape 110.97576904296875\n",
      "модель 28 обучена, mape 53.424624633789065\n",
      "модель 29 обучена, mape 61.50684193202427\n",
      "модель 30 обучена, mape 70.68480682373047\n",
      "модель 31 обучена, mape 62.69388198852539\n",
      "модель 32 обучена, mape 65.3456916809082\n",
      "модель 33 обучена, mape 54.5920991897583\n",
      "модель 34 обучена, mape 56.199482917785645\n",
      "модель 35 обучена, mape 58.58906936645508\n",
      "модель 36 обучена, mape 62.54528617858887\n",
      "модель 37 обучена, mape 64.94036865234375\n",
      "модель 38 обучена, mape 61.8602180480957\n",
      "модель 39 обучена, mape 56.725772857666016\n",
      "модель 40 обучена, mape 152.2660369873047\n",
      "модель 41 обучена, mape 54.95626449584961\n",
      "модель 42 обучена, mape 50.87267049153646\n",
      "модель 43 обучена, mape 74.68663635253907\n",
      "модель 44 обучена, mape 60.04667663574219\n",
      "модель 45 обучена, mape 66.63348388671875\n",
      "модель 46 обучена, mape 76.80435276031494\n",
      "модель 47 обучена, mape 157.23692067464194\n",
      "модель 48 обучена, mape 51.81346893310547\n",
      "модель 49 обучена, mape 54.57409413655599\n",
      "модель 50 обучена, mape 62.93806457519531\n",
      "модель 51 обучена, mape 56.3935489654541\n",
      "модель 52 обучена, mape 53.083299001057945\n",
      "модель 53 обучена, mape 58.805365244547524\n",
      "модель 54 обучена, mape 80.3634745279948\n",
      "модель 55 обучена, mape 59.32014592488607\n",
      "модель 56 обучена, mape 60.18234634399414\n",
      "модель 57 обучена, mape 87.40443420410156\n",
      "модель 58 обучена, mape 63.69341532389323\n",
      "модель 59 обучена, mape 56.407029469807945\n",
      "модель 60 обучена, mape 65.26596641540527\n",
      "модель 61 обучена, mape 59.20334434509277\n",
      "модель 62 обучена, mape 58.138662338256836\n",
      "модель 63 обучена, mape 35.98935508728027\n",
      "модель 64 обучена, mape 54.25090789794922\n",
      "модель 65 обучена, mape 59.76912879943848\n",
      "модель 66 обучена, mape 58.51114273071289\n",
      "модель 67 обучена, mape 68.99823506673177\n",
      "модель 68 обучена, mape 45.72523880004883\n",
      "модель 69 обучена, mape 54.774234771728516\n",
      "модель 70 обучена, mape 67.5865364074707\n",
      "модель 71 обучена, mape 68.64483388264973\n",
      "модель 72 обучена, mape 57.27640914916992\n",
      "модель 73 обучена, mape 65.06586837768555\n",
      "модель 74 обучена, mape 56.44808578491211\n",
      "модель 75 обучена, mape 36.718008041381836\n",
      "модель 76 обучена, mape 52.62062454223633\n",
      "модель 77 обучена, mape 47.65975761413574\n",
      "модель 78 обучена, mape 67.75513458251953\n",
      "модель 79 обучена, mape 54.611515045166016\n",
      "модель 80 обучена, mape 57.06508255004883\n",
      "модель 81 обучена, mape 76.35751724243164\n",
      "модель 82 обучена, mape 62.130863189697266\n",
      "модель 83 обучена, mape 58.2832145690918\n",
      "модель 84 обучена, mape 58.660762786865234\n",
      "модель 85 обучена, mape 53.01224327087402\n",
      "модель 86 обучена, mape 56.45600700378418\n",
      "модель 87 обучена, mape 48.078006744384766\n",
      "модель 88 обучена, mape 54.90549087524414\n",
      "модель 89 обучена, mape 58.110626220703125\n",
      "модель 90 обучена, mape 53.11282539367676\n",
      "модель 91 обучена, mape 49.272294998168945\n",
      "модель 92 обучена, mape 51.52549934387207\n",
      "модель 93 обучена, mape 61.498172760009766\n",
      "модель 94 обучена, mape 82.35740661621094\n",
      "модель 95 обучена, mape 82.91839981079102\n",
      "модель 96 обучена, mape 53.21311569213867\n",
      "модель 97 обучена, mape 54.17124366760254\n",
      "модель 98 обучена, mape 52.45513153076172\n",
      "модель 99 обучена, mape 61.27868461608887\n",
      "модель 100 обучена, mape 41.74920654296875\n",
      "модель 101 обучена, mape 70.00120544433594\n",
      "модель 102 обучена, mape 46.824384689331055\n",
      "модель 103 обучена, mape 72.0460205078125\n",
      "модель 104 обучена, mape 63.52528762817383\n",
      "модель 105 обучена, mape 55.045169830322266\n",
      "модель 106 обучена, mape 54.90087127685547\n",
      "модель 107 обучена, mape 58.37938690185547\n",
      "модель 108 обучена, mape 47.75861167907715\n",
      "модель 109 обучена, mape 72.51713371276855\n",
      "модель 110 обучена, mape 120.30416870117188\n",
      "модель 111 обучена, mape 80.45869827270508\n",
      "модель 112 обучена, mape 53.00634956359863\n",
      "модель 113 обучена, mape 53.17495155334473\n",
      "модель 114 обучена, mape 71.04054260253906\n",
      "модель 115 обучена, mape 72.20489501953125\n",
      "модель 116 обучена, mape 52.66489601135254\n",
      "модель 117 обучена, mape 58.580421447753906\n",
      "модель 118 обучена, mape 69.60683822631836\n",
      "модель 119 обучена, mape 71.47722625732422\n",
      "модель 120 обучена, mape 603.5945434570312\n",
      "модель 121 обучена, mape 130.36614990234375\n",
      "модель 122 обучена, mape 103.88860321044922\n",
      "модель 123 обучена, mape 56.8104362487793\n",
      "модель 124 обучена, mape 59.114715576171875\n",
      "модель 125 обучена, mape 65.10865783691406\n",
      "модель 126 обучена, mape 58.839820861816406\n",
      "модель 127 обучена, mape 70.2375717163086\n",
      "модель 128 обучена, mape 70.731689453125\n",
      "модель 129 обучена, mape 188.41680908203125\n",
      "модель 130 обучена, mape 61.483577728271484\n",
      "модель 131 обучена, mape 72.16626739501953\n",
      "модель 132 обучена, mape 55.85451126098633\n",
      "модель 133 обучена, mape 59.3454475402832\n",
      "модель 134 обучена, mape 64.47374725341797\n",
      "модель 135 обучена, mape 47.620025634765625\n",
      "модель 136 обучена, mape 26.145437240600586\n",
      "модель 137 обучена, mape 54.89482879638672\n",
      "модель 138 обучена, mape 72.66974639892578\n",
      "модель 139 обучена, mape 92.59335327148438\n",
      "модель 140 обучена, mape 63.5854606628418\n",
      "модель 141 обучена, mape 53.99519348144531\n",
      "модель 142 обучена, mape 64.58655548095703\n",
      "модель 143 обучена, mape 59.903133392333984\n",
      "модель 144 обучена, mape 85.88432312011719\n",
      "модель 145 обучена, mape 165.62664794921875\n",
      "модель 146 обучена, mape 57.0767936706543\n",
      "модель 147 обучена, mape 58.82168960571289\n",
      "модель 148 обучена, mape 336.8423767089844\n",
      "модель 149 обучена, mape 43.340553283691406\n",
      "модель 150 обучена, mape 61.157249450683594\n",
      "модель 151 обучена, mape 60.86311340332031\n",
      "модель 152 обучена, mape 53.88081359863281\n",
      "модель 153 обучена, mape 49.62071228027344\n",
      "модель 154 обучена, mape 58.839385986328125\n",
      "модель 155 обучена, mape 59.19951820373535\n",
      "модель 156 обучена, mape 63.01564025878906\n",
      "модель 157 обучена, mape 48.80609893798828\n",
      "модель 158 обучена, mape 54.6607551574707\n",
      "модель 159 обучена, mape 213.26138305664062\n",
      "модель 160 обучена, mape 45.33638000488281\n",
      "модель 161 обучена, mape 48.75981140136719\n",
      "модель 162 обучена, mape 83.96583557128906\n",
      "модель 163 обучена, mape 109.87400817871094\n",
      "модель 164 обучена, mape 52.69646453857422\n",
      "модель 165 обучена, mape 66.45941925048828\n",
      "модель 166 обучена, mape 125.20540618896484\n",
      "модель 167 обучена, mape 76.35445404052734\n",
      "модель 168 обучена, mape 87.85545349121094\n",
      "модель 169 обучена, mape 62.82047080993652\n",
      "модель 170 обучена, mape 51.14659118652344\n",
      "модель 171 обучена, mape 211.3630828857422\n",
      "модель 172 обучена, mape 65.95720672607422\n",
      "модель 173 обучена, mape 57.428497314453125\n",
      "модель 174 обучена, mape 104.34432220458984\n",
      "модель 175 обучена, mape 64.02001190185547\n",
      "модель 176 обучена, mape 55.804962158203125\n",
      "модель 177 обучена, mape 158.33126831054688\n",
      "модель 178 обучена, mape 56.96823501586914\n",
      "модель 179 обучена, mape 63.96657943725586\n",
      "модель 180 обучена, mape 59.505489349365234\n",
      "модель 181 обучена, mape 60.1063117980957\n",
      "модель 182 обучена, mape 44.32562255859375\n",
      "модель 183 обучена, mape 59.74890899658203\n",
      "модель 184 обучена, mape 53.082210540771484\n",
      "модель 185 обучена, mape 95.6379165649414\n",
      "модель 186 обучена, mape 44.39588165283203\n",
      "модель 187 обучена, mape 83.7669677734375\n",
      "модель 188 обучена, mape 82.92466735839844\n",
      "модель 189 обучена, mape 56.28660583496094\n",
      "модель 190 обучена, mape 61.15900421142578\n",
      "модель 191 обучена, mape 28.17525863647461\n",
      "модель 192 обучена, mape 50.57168197631836\n"
     ]
    },
    {
     "name": "stdout",
     "output_type": "stream",
     "text": [
      "модель 193 обучена, mape 147.46524047851562\n",
      "модель 194 обучена, mape 105.47450256347656\n",
      "модель 195 обучена, mape 59.72380447387695\n",
      "модель 196 обучена, mape 63.55485153198242\n",
      "модель 197 обучена, mape 77.75220489501953\n",
      "модель 198 обучена, mape 58.45656967163086\n",
      "модель 199 обучена, mape 61.631385803222656\n",
      "модель 200 обучена, mape 325.62908935546875\n",
      "модель 201 обучена, mape 65.96688079833984\n",
      "модель 202 обучена, mape 52.882362365722656\n",
      "модель 203 обучена, mape 40.54810333251953\n",
      "модель 204 обучена, mape 73.64530944824219\n",
      "модель 205 обучена, mape 39.84339141845703\n",
      "модель 206 обучена, mape 66.87448120117188\n",
      "модель 207 обучена, mape 71.61910247802734\n",
      "модель 208 обучена, mape 62.23152160644531\n",
      "модель 209 обучена, mape 34.456993103027344\n",
      "модель 210 обучена, mape 96.25688934326172\n",
      "модель 211 обучена, mape 50.6323127746582\n",
      "модель 212 обучена, mape 84.001220703125\n",
      "модель 213 обучена, mape 67.2359619140625\n",
      "модель 214 обучена, mape 51.55216598510742\n",
      "модель 215 обучена, mape 72.71458435058594\n",
      "модель 216 обучена, mape 86.4146728515625\n",
      "модель 217 обучена, mape 121.93209075927734\n",
      "модель 218 обучена, mape 52.68601608276367\n",
      "модель 219 обучена, mape 87.35009765625\n",
      "модель 220 обучена, mape 59.795501708984375\n",
      "модель 221 обучена, mape 67.0781021118164\n",
      "модель 222 обучена, mape 8.421299934387207\n",
      "модель 223 обучена, mape 56.654869079589844\n",
      "модель 224 обучена, mape 94.12877655029297\n",
      "модель 225 обучена, mape 9.229917526245117\n",
      "модель 226 обучена, mape 54.35469055175781\n",
      "модель 227 обучена, mape 14.766057014465332\n",
      "модель 228 обучена, mape 35.304298400878906\n",
      "модель 229 обучена, mape 64.50804901123047\n",
      "модель 230 обучена, mape 58.532142639160156\n",
      "модель 231 обучена, mape 88.8100357055664\n",
      "модель 232 обучена, mape 103.07986450195312\n",
      "модель 233 обучена, mape 59.13159942626953\n",
      "модель 234 обучена, mape 48.907718658447266\n",
      "модель 235 обучена, mape 91.30660247802734\n",
      "модель 236 обучена, mape 144.75399780273438\n",
      "модель 237 обучена, mape 48.411460876464844\n",
      "модель 238 обучена, mape 65.91324615478516\n",
      "модель 239 обучена, mape 114.52349853515625\n",
      "модель 240 обучена, mape 64.45669555664062\n",
      "модель 241 обучена, mape 297.95904541015625\n",
      "модель 242 обучена, mape 53.20527648925781\n",
      "модель 243 обучена, mape 54.8431396484375\n",
      "модель 244 обучена, mape 53.5767822265625\n",
      "модель 245 обучена, mape 61.00349807739258\n",
      "модель 246 обучена, mape 53.3110466003418\n",
      "модель 247 обучена, mape 123.21544647216797\n",
      "модель 248 обучена, mape 54.22421646118164\n",
      "модель 249 обучена, mape 46.6129264831543\n",
      "модель 250 обучена, mape 53.41585159301758\n",
      "модель 251 обучена, mape 86.67850494384766\n",
      "модель 252 обучена, mape 60.97128677368164\n",
      "модель 253 обучена, mape 42.697906494140625\n",
      "модель 254 обучена, mape 58.58244705200195\n",
      "модель 255 обучена, mape 4.650755882263184\n",
      "модель 256 обучена, mape 62.20066452026367\n",
      "модель 257 обучена, mape 70.29855346679688\n",
      "модель 258 обучена, mape 184.34988403320312\n",
      "модель 259 обучена, mape 49.94108200073242\n",
      "модель 260 обучена, mape 48.023746490478516\n",
      "модель 261 обучена, mape 35.67300796508789\n",
      "модель 262 обучена, mape 50.676998138427734\n",
      "модель 263 обучена, mape 91.97299194335938\n",
      "модель 264 обучена, mape 67.90702819824219\n",
      "модель 265 обучена, mape 48.037052154541016\n",
      "модель 266 обучена, mape 76.83052825927734\n",
      "модель 267 обучена, mape 69.40095520019531\n",
      "модель 268 обучена, mape 58.331787109375\n",
      "модель 269 обучена, mape 97.69659423828125\n",
      "модель 270 обучена, mape 68.34721374511719\n",
      "модель 271 обучена, mape 68.20838928222656\n",
      "модель 272 обучена, mape 55.647682189941406\n",
      "модель 273 обучена, mape 25.470548629760742\n",
      "модель 274 обучена, mape 86.20587158203125\n",
      "модель 275 обучена, mape 40.08854675292969\n",
      "модель 276 обучена, mape 54.580020904541016\n",
      "модель 277 обучена, mape 97.43463897705078\n",
      "модель 278 обучена, mape 64.6504135131836\n",
      "модель 279 обучена, mape 57.06958770751953\n",
      "модель 280 обучена, mape 50.541160583496094\n",
      "модель 281 обучена, mape 22.238969802856445\n",
      "модель 282 обучена, mape 53.70625686645508\n",
      "модель 283 обучена, mape 53.6430549621582\n",
      "модель 284 обучена, mape 96.12723541259766\n",
      "модель 285 обучена, mape 36.568294525146484\n",
      "модель 286 обучена, mape 58.71626663208008\n",
      "модель 287 обучена, mape 54.202674865722656\n",
      "модель 288 обучена, mape 200.90098571777344\n",
      "модель 289 обучена, mape 124.01888275146484\n",
      "модель 290 обучена, mape 128.97952270507812\n",
      "модель 291 обучена, mape 65.5177993774414\n",
      "модель 292 обучена, mape 63.37917709350586\n",
      "модель 293 обучена, mape 55.04557800292969\n",
      "модель 294 обучена, mape 57.103858947753906\n",
      "модель 295 обучена, mape 73.19783782958984\n",
      "модель 296 обучена, mape 87.6734619140625\n",
      "модель 297 обучена, mape 51.109622955322266\n",
      "модель 298 обучена, mape 51.554359436035156\n",
      "модель 299 обучена, mape 61.23131561279297\n",
      "модель 300 обучена, mape 60.26523971557617\n",
      "модель 301 обучена, mape 57.37337875366211\n",
      "модель 302 обучена, mape 61.64613723754883\n",
      "модель 303 обучена, mape 66.28909301757812\n",
      "модель 304 обучена, mape 57.059539794921875\n",
      "модель 305 обучена, mape 59.32255172729492\n",
      "модель 306 обучена, mape 71.07671356201172\n",
      "модель 307 обучена, mape 62.70900344848633\n",
      "модель 308 обучена, mape 29.03851890563965\n",
      "модель 309 обучена, mape 98.8208999633789\n",
      "модель 310 обучена, mape 55.5317497253418\n",
      "модель 311 обучена, mape 65.53580474853516\n",
      "модель 312 обучена, mape 65.26457977294922\n",
      "модель 313 обучена, mape 51.63703155517578\n",
      "модель 314 обучена, mape 76.94947052001953\n",
      "модель 315 обучена, mape 143.78720092773438\n",
      "модель 316 обучена, mape 30.36796760559082\n",
      "модель 317 обучена, mape 55.03812789916992\n",
      "модель 318 обучена, mape 29.93651008605957\n",
      "модель 319 обучена, mape 57.92220687866211\n",
      "модель 320 обучена, mape 49.39604949951172\n",
      "модель 321 обучена, mape 44.35341262817383\n",
      "модель 322 обучена, mape 227.83880615234375\n",
      "модель 323 обучена, mape 29.527429580688477\n",
      "модель 324 обучена, mape 36.26615524291992\n",
      "модель 325 обучена, mape 62.05328369140625\n",
      "модель 326 обучена, mape 70.60486602783203\n",
      "модель 327 обучена, mape 63.29204177856445\n",
      "модель 328 обучена, mape 36.712608337402344\n",
      "модель 329 обучена, mape 79.29961395263672\n",
      "модель 330 обучена, mape 21.075550079345703\n",
      "модель 331 обучена, mape 57.746253967285156\n",
      "модель 332 обучена, mape 60.406532287597656\n",
      "модель 333 обучена, mape 16.20762062072754\n",
      "модель 334 обучена, mape 31.486480712890625\n",
      "модель 335 обучена, mape 96.26034545898438\n",
      "модель 336 обучена, mape 76.9444808959961\n",
      "модель 337 обучена, mape 59.68257141113281\n",
      "модель 338 обучена, mape 64.51844024658203\n",
      "модель 339 обучена, mape 56.32461166381836\n",
      "модель 340 обучена, mape 63.10951232910156\n",
      "модель 341 обучена, mape 61.281005859375\n",
      "модель 342 обучена, mape 43.79056167602539\n",
      "модель 343 обучена, mape 37.65119552612305\n",
      "модель 344 обучена, mape 45.22108840942383\n",
      "модель 345 обучена, mape 50.59663391113281\n",
      "модель 346 обучена, mape 55.179203033447266\n",
      "модель 347 обучена, mape 8.132011413574219\n",
      "модель 348 обучена, mape 0.2367410808801651\n",
      "модель 349 обучена, mape 21.60641098022461\n",
      "модель 350 обучена, mape 0.9714770913124084\n",
      "модель 351 обучена, mape 77.02241516113281\n",
      "модель 352 обучена, mape 6.269784450531006\n",
      "модель 353 обучена, mape 11.63176155090332\n",
      "модель 354 обучена, mape 10.127717018127441\n",
      "модель 355 обучена, mape 2.957021951675415\n",
      "модель 356 обучена, mape 265.9216613769531\n",
      "модель 357 обучена, mape 54.787376403808594\n",
      "модель 358 обучена, mape 4.258058071136475\n",
      "модель 359 обучена, mape 16.78714942932129\n",
      "модель 360 обучена, mape 28.10013198852539\n",
      "модель 361 обучена, mape 7.91308069229126\n",
      "модель 362 обучена, mape 18.694448471069336\n",
      "модель 363 обучена, mape 104.70346069335938\n",
      "модель 364 обучена, mape 32.067630767822266\n",
      "модель 365 обучена, mape 36.226219177246094\n",
      "модель 366 обучена, mape 17.87755584716797\n",
      "модель 367 обучена, mape 137.24974060058594\n",
      "модель 368 обучена, mape 1.8343970775604248\n",
      "модель 369 обучена, mape 2.185344696044922\n",
      "модель 370 обучена, mape 2.4286487102508545\n",
      "модель 371 обучена, mape 12.017282485961914\n",
      "модель 372 обучена, mape 25.603479385375977\n",
      "модель 373 обучена, mape 12.908191680908203\n",
      "модель 374 обучена, mape 9.756624221801758\n",
      "модель 375 обучена, mape 58.24268341064453\n",
      "модель 376 обучена, mape 6.709716320037842\n",
      "модель 377 обучена, mape 2.643207311630249\n",
      "модель 378 обучена, mape 9.030957221984863\n",
      "модель 379 обучена, mape 14.378727912902832\n",
      "модель 380 обучена, mape 41.450679779052734\n",
      "модель 381 обучена, mape 7.9248576164245605\n",
      "модель 382 обучена, mape 40.45134353637695\n"
     ]
    },
    {
     "name": "stdout",
     "output_type": "stream",
     "text": [
      "модель 383 обучена, mape 2.8267555236816406\n",
      "модель 384 обучена, mape 9.24754524230957\n",
      "модель 385 обучена, mape 57.97663879394531\n",
      "модель 386 обучена, mape 7.1133575439453125\n",
      "модель 387 обучена, mape 95.14273071289062\n",
      "модель 388 обучена, mape 1.983339548110962\n",
      "модель 389 обучена, mape 47.36314392089844\n",
      "модель 390 обучена, mape 21.110898971557617\n",
      "модель 391 обучена, mape 4.673015594482422\n",
      "модель 392 обучена, mape 1.89495050907135\n",
      "модель 393 обучена, mape 10.795371055603027\n",
      "модель 394 обучена, mape 79.16019439697266\n",
      "модель 395 обучена, mape 93.93229675292969\n",
      "модель 396 обучена, mape 4.100543022155762\n",
      "модель 397 обучена, mape 48.249141693115234\n",
      "модель 398 обучена, mape 8.35538101196289\n",
      "модель 399 обучена, mape 17.083744049072266\n",
      "модель 400 обучена, mape 5.841288089752197\n",
      "модель 401 обучена, mape 15.294797897338867\n",
      "модель 402 обучена, mape 100.43976593017578\n",
      "модель 403 обучена, mape 252.6521453857422\n",
      "модель 404 обучена, mape 1.1781452894210815\n",
      "модель 405 обучена, mape 5.5488386154174805\n",
      "модель 406 обучена, mape 11.632203102111816\n",
      "модель 407 обучена, mape 2.9680404663085938\n",
      "модель 408 обучена, mape 15.397943496704102\n",
      "модель 409 обучена, mape 2.837737798690796\n",
      "модель 410 обучена, mape 25.87425422668457\n",
      "модель 411 обучена, mape 0.5505421757698059\n",
      "модель 412 обучена, mape 14.53359317779541\n",
      "модель 413 обучена, mape 31.092605590820312\n",
      "модель 414 обучена, mape 4.569814682006836\n",
      "модель 415 обучена, mape 96.60254669189453\n",
      "модель 416 обучена, mape 13.982367515563965\n",
      "модель 417 обучена, mape 19.401573181152344\n",
      "модель 418 обучена, mape 2.958862781524658\n",
      "модель 419 обучена, mape 20.262327194213867\n",
      "модель 420 обучена, mape 18.090734481811523\n",
      "модель 421 обучена, mape 73.05963897705078\n",
      "модель 422 обучена, mape 4.691036701202393\n",
      "модель 423 обучена, mape 18.905752182006836\n",
      "модель 424 обучена, mape 112.99531555175781\n",
      "модель 425 обучена, mape 65.25123596191406\n",
      "модель 426 обучена, mape 75.5074462890625\n",
      "модель 427 обучена, mape 16.275835037231445\n",
      "модель 428 обучена, mape 3.1657602787017822\n",
      "модель 429 обучена, mape 17.62026596069336\n",
      "модель 430 обучена, mape 161.93377685546875\n",
      "модель 431 обучена, mape 14.981956481933594\n",
      "модель 432 обучена, mape 0.40652361512184143\n",
      "модель 433 обучена, mape 10.471189498901367\n",
      "модель 434 обучена, mape 60.65556335449219\n",
      "модель 435 обучена, mape 6.0264787673950195\n",
      "модель 436 обучена, mape 65.61990356445312\n",
      "модель 437 обучена, mape 4.824365139007568\n",
      "модель 438 обучена, mape 78.9785385131836\n",
      "модель 439 обучена, mape 31.506956100463867\n",
      "модель 440 обучена, mape 7.193906784057617\n",
      "модель 441 обучена, mape 69.88328552246094\n",
      "модель 442 обучена, mape 8.105940818786621\n",
      "модель 443 обучена, mape 28.87179183959961\n",
      "модель 444 обучена, mape 320.6258544921875\n",
      "модель 445 обучена, mape 3.475846290588379\n",
      "модель 446 обучена, mape 4.632986545562744\n",
      "модель 447 обучена, mape 13.544620513916016\n",
      "модель 448 обучена, mape 4.809813022613525\n",
      "модель 449 обучена, mape 33.43052291870117\n",
      "модель 450 обучена, mape 1.5657246112823486\n",
      "модель 451 обучена, mape 19.467008590698242\n",
      "модель 452 обучена, mape 1.2526659965515137\n",
      "модель 453 обучена, mape 20.131120681762695\n",
      "модель 454 обучена, mape 13.318252563476562\n",
      "модель 455 обучена, mape 4.190168380737305\n",
      "модель 456 обучена, mape 7.868317604064941\n",
      "модель 457 обучена, mape 101.6109848022461\n",
      "модель 458 обучена, mape 56.696163177490234\n",
      "модель 459 обучена, mape 8.788617134094238\n",
      "модель 460 обучена, mape 2.586550712585449\n",
      "модель 461 обучена, mape 14.485895156860352\n",
      "модель 462 обучена, mape 10.775738716125488\n",
      "модель 463 обучена, mape 55.1226921081543\n",
      "модель 464 обучена, mape 11.73454761505127\n",
      "модель 465 обучена, mape 63.39594268798828\n",
      "модель 466 обучена, mape 44.982086181640625\n",
      "модель 467 обучена, mape 123.34208679199219\n",
      "модель 468 обучена, mape 24.66591453552246\n",
      "модель 469 обучена, mape 11.167860984802246\n",
      "модель 470 обучена, mape 7.3409423828125\n",
      "модель 471 обучена, mape 105.57950592041016\n",
      "модель 472 обучена, mape 0.6310155987739563\n",
      "модель 473 обучена, mape 5.105482578277588\n",
      "модель 474 обучена, mape 5.110349655151367\n",
      "модель 475 обучена, mape 1.1905704736709595\n",
      "модель 476 обучена, mape 21.626237869262695\n",
      "модель 477 обучена, mape 13.066937446594238\n",
      "модель 478 обучена, mape 14.676445960998535\n",
      "модель 479 обучена, mape 22.36138343811035\n",
      "модель 480 обучена, mape 64.09412384033203\n",
      "модель 481 обучена, mape 35.742313385009766\n",
      "модель 482 обучена, mape 1.0916556119918823\n",
      "модель 483 обучена, mape 30.833139419555664\n",
      "модель 484 обучена, mape 0.9499127268791199\n",
      "модель 485 обучена, mape 0.8841329216957092\n",
      "модель 486 обучена, mape 6.974908828735352\n",
      "модель 487 обучена, mape 62.89822006225586\n",
      "модель 488 обучена, mape 98.07073974609375\n",
      "модель 489 обучена, mape 4.3676557540893555\n",
      "модель 490 обучена, mape 7.264392852783203\n",
      "модель 491 обучена, mape 3.09000301361084\n",
      "модель 492 обучена, mape 3.559702157974243\n",
      "модель 493 обучена, mape 70.12545776367188\n",
      "модель 494 обучена, mape 10.484153747558594\n",
      "модель 495 обучена, mape 1.8517818450927734\n",
      "модель 496 обучена, mape 79.16460418701172\n",
      "модель 497 обучена, mape 0.8069278597831726\n",
      "модель 498 обучена, mape 5.446232795715332\n",
      "модель 499 обучена, mape 97.56671142578125\n",
      "модель 500 обучена, mape 24.66302490234375\n",
      "модель 501 обучена, mape 7.951541423797607\n",
      "модель 502 обучена, mape 44.667572021484375\n",
      "модель 503 обучена, mape 1.098122000694275\n",
      "модель 504 обучена, mape 1.8557602167129517\n",
      "модель 505 обучена, mape 9.576738357543945\n",
      "модель 506 обучена, mape 6.958467483520508\n",
      "модель 507 обучена, mape 9.577690124511719\n",
      "модель 508 обучена, mape 8.691276550292969\n",
      "модель 509 обучена, mape 33.49342727661133\n",
      "модель 510 обучена, mape 1.461701512336731\n",
      "модель 511 обучена, mape 43.61017608642578\n",
      "Среднее mape 58.15686016673938\n"
     ]
    }
   ],
   "source": [
    "test_prediction = {}\n",
    "s = 0\n",
    "for cluster in range(0, 511 + 1):\n",
    "    series = data['min'][data['class'] == cluster].copy()\n",
    "    rnn, train_dataset, window = train_model(series)\n",
    "    hist = rnn.fit(train_dataset, epochs=20, verbose=0)\n",
    "    print('модель {} обучена, mape {}'.format(cluster, hist.history['loss'][-1]))\n",
    "    test_prediction[cluster] = make_prediction(rnn, series, window)\n",
    "    s += hist.history['loss'][-1]\n",
    "print('Среднее mape {}'.format(s / 512))"
   ]
  },
  {
   "cell_type": "code",
   "execution_count": 92,
   "metadata": {},
   "outputs": [],
   "source": [
    "def mape(y_true, predicted):\n",
    "    return np.mean(np.abs(y_true - np.ravel(predicted)) / y_true)"
   ]
  },
  {
   "cell_type": "code",
   "execution_count": 130,
   "metadata": {},
   "outputs": [],
   "source": [
    "test_prediction[512] = np.array(data['min'][data['class'] == 512])"
   ]
  },
  {
   "cell_type": "code",
   "execution_count": 131,
   "metadata": {},
   "outputs": [
    {
     "data": {
      "text/plain": [
       "array([416.15])"
      ]
     },
     "execution_count": 131,
     "metadata": {},
     "output_type": "execute_result"
    }
   ],
   "source": [
    "test_prediction[512]"
   ]
  },
  {
   "cell_type": "markdown",
   "metadata": {},
   "source": [
    "# TEST PREDICTION"
   ]
  },
  {
   "cell_type": "code",
   "execution_count": 132,
   "metadata": {},
   "outputs": [],
   "source": [
    "test = pd.read_csv('test.csv', sep=';')\n",
    "geo = test[['place_latitude', 'place_longitude']].copy()\n",
    "geo['class'] = clustering.predict(geo)\n",
    "test['class'] = geo['class']"
   ]
  },
  {
   "cell_type": "code",
   "execution_count": 133,
   "metadata": {},
   "outputs": [
    {
     "data": {
      "text/plain": [
       "array([  0,   1,   2,   3,   4,   5,   6,   7,   8,   9,  10,  11,  12,\n",
       "        13,  14,  15,  16,  17,  18,  19,  20,  21,  22,  23,  24,  25,\n",
       "        26,  27,  28,  29,  30,  31,  32,  33,  34,  35,  36,  37,  38,\n",
       "        39,  40,  41,  42,  43,  44,  45,  46,  47,  48,  49,  50,  51,\n",
       "        52,  53,  54,  55,  57,  58,  59,  60,  61,  62,  63,  64,  65,\n",
       "        66,  67,  68,  69,  70,  71,  72,  73,  74,  75,  76,  77,  78,\n",
       "        79,  80,  81,  82,  83,  84,  85,  86,  87,  88,  89,  90,  91,\n",
       "        92,  93,  94,  95,  96,  97,  98,  99, 100, 101, 102, 103, 104,\n",
       "       106, 107, 108, 109, 110, 111, 112, 113, 114, 115, 116, 117, 118,\n",
       "       119, 120, 121, 122, 123, 124, 125, 126, 127, 129, 130, 131, 133,\n",
       "       134, 135, 136, 139, 140, 141, 142, 143, 145, 146, 148, 150, 151,\n",
       "       152, 153, 154, 155, 156, 159, 160, 163, 164, 165, 166, 167, 168,\n",
       "       169, 170, 171, 173, 174, 175, 176, 178, 179, 180, 181, 182, 183,\n",
       "       184, 185, 186, 187, 188, 189, 190, 191, 192, 193, 194, 195, 196,\n",
       "       197, 199, 200, 201, 204, 205, 206, 208, 210, 212, 213, 214, 216,\n",
       "       217, 218, 219, 220, 221, 223, 224, 225, 226, 230, 231, 232, 233,\n",
       "       234, 235, 236, 239, 240, 241, 242, 243, 246, 247, 248, 249, 250,\n",
       "       251, 252, 254, 256, 257, 258, 259, 260, 262, 263, 264, 266, 267,\n",
       "       268, 269, 270, 271, 272, 273, 274, 277, 279, 280, 281, 285, 288,\n",
       "       289, 291, 293, 294, 296, 297, 298, 302, 304, 305, 307, 310, 311,\n",
       "       313, 314, 316, 317, 318, 320, 321, 325, 326, 327, 328, 329, 330,\n",
       "       332, 333, 334, 335, 336, 337, 338, 340, 341, 344, 345, 346, 347,\n",
       "       351, 352, 354, 356, 357, 358, 359, 361, 364, 366, 368, 372, 373,\n",
       "       374, 375, 376, 378, 381, 382, 383, 386, 389, 390, 392, 393, 394,\n",
       "       396, 401, 402, 405, 407, 408, 410, 411, 414, 419, 420, 425, 428,\n",
       "       430, 433, 437, 440, 444, 446, 451, 453, 459, 461, 462, 467, 472,\n",
       "       473, 479, 488, 495, 500, 512], dtype=int64)"
      ]
     },
     "execution_count": 133,
     "metadata": {},
     "output_type": "execute_result"
    }
   ],
   "source": [
    "np.unique(test['class'])"
   ]
  },
  {
   "cell_type": "code",
   "execution_count": 152,
   "metadata": {},
   "outputs": [],
   "source": [
    "prediction = []\n",
    "for index, row in test.iterrows():\n",
    "    prediction.append(test_prediction[row['class']][0])\n",
    "    if len(test_prediction[row['class']]) > 1:\n",
    "        test_prediction[row['class']].pop(0)"
   ]
  },
  {
   "cell_type": "code",
   "execution_count": 153,
   "metadata": {},
   "outputs": [],
   "source": [
    "prediction = np.array(prediction)"
   ]
  },
  {
   "cell_type": "code",
   "execution_count": 154,
   "metadata": {},
   "outputs": [],
   "source": [
    "prediction = [abs(float(i)) for i in prediction]"
   ]
  },
  {
   "cell_type": "code",
   "execution_count": 157,
   "metadata": {},
   "outputs": [],
   "source": [
    "test = test.drop(columns=['class'])"
   ]
  },
  {
   "cell_type": "code",
   "execution_count": 158,
   "metadata": {},
   "outputs": [],
   "source": [
    "test['predicted_duration_mins'] = prediction"
   ]
  },
  {
   "cell_type": "code",
   "execution_count": 160,
   "metadata": {},
   "outputs": [],
   "source": [
    "test.to_csv('prediction.csv')"
   ]
  },
  {
   "cell_type": "code",
   "execution_count": null,
   "metadata": {},
   "outputs": [],
   "source": []
  }
 ],
 "metadata": {
  "colab": {
   "collapsed_sections": [],
   "name": "cup_it_final-Copy2.ipynb",
   "provenance": []
  },
  "kernelspec": {
   "display_name": "Python 3",
   "language": "python",
   "name": "python3"
  },
  "language_info": {
   "codemirror_mode": {
    "name": "ipython",
    "version": 3
   },
   "file_extension": ".py",
   "mimetype": "text/x-python",
   "name": "python",
   "nbconvert_exporter": "python",
   "pygments_lexer": "ipython3",
   "version": "3.7.3"
  }
 },
 "nbformat": 4,
 "nbformat_minor": 1
}
